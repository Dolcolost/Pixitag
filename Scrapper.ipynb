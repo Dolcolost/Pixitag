{
 "cells": [
  {
   "cell_type": "code",
   "execution_count": 55,
   "id": "billion-superior",
   "metadata": {},
   "outputs": [],
   "source": [
    "import requests\n",
    "import requests\n",
    "from bs4 import BeautifulSoup\n",
    "import json"
   ]
  },
  {
   "cell_type": "code",
   "execution_count": 56,
   "id": "dressed-orange",
   "metadata": {},
   "outputs": [
    {
     "name": "stdout",
     "output_type": "stream",
     "text": [
      "['89109614', '89121548', '89095933', '89113282', '89095580', '89107668', '89116074', '89110432', '89107270', '89130385', '89095733', '89095813', '89095540', '89095717', '89096137', '89101314', '89101014', '89103040', '89099805', '89115885', '89115829', '89116623', '89111502', '89101234', '89110919', '89104336', '89117085', '89117161', '89102712', '89115849', '89115879', '89115888', '89127516', '89102857', '89095581', '89133180', '89101579', '89115904', '89115945', '89115906', '89100095', '89108877', '89096670', '89098204']\n"
     ]
    }
   ],
   "source": [
    "url = \"http://www.pixiv.net/ranking.php\"\n",
    "response = requests.get(url)\n",
    "headers = {'User-Agent': 'Mozilla/5.0 (Macintosh; Intel Mac OS X 10_10_1) AppleWebKit/537.36 (KHTML, like Gecko) Chrome/39.0.2171.95 Safari/537.36', \n",
    "          'password': 'rd.)T6vF',\n",
    "          'pixiv_id' : 'flicfloclol@hotmail.fr'}\n",
    "response = requests.get(url, headers=headers, timeout = 10)\n",
    "\n",
    "response.status_code\n",
    "\n",
    "soup = BeautifulSoup(response.text)\n",
    "links = []\n",
    "\n",
    "for link in soup.find_all('a', class_=\"work _work\"):\n",
    "    links.append(link.get('href').split('/')[2])\n",
    "    \n",
    "for link in soup.find_all('a', class_=\"work _work multiple\"):\n",
    "    links.append(link.get('href').split('/')[2])\n",
    "    \n",
    "print(links)\n",
    "\n"
   ]
  },
  {
   "cell_type": "code",
   "execution_count": null,
   "id": "possible-concept",
   "metadata": {},
   "outputs": [],
   "source": [
    "\n"
   ]
  },
  {
   "cell_type": "code",
   "execution_count": 71,
   "id": "broadband-pregnancy",
   "metadata": {
    "scrolled": true
   },
   "outputs": [
    {
     "name": "stdout",
     "output_type": "stream",
     "text": [
      "200\n",
      "[{'tag': 'がんばれ同期ちゃん', 'locked': True, 'deletable': False, 'userId': '6210796', 'romaji': 'gannbaredoukichann', 'translation': {'en': 'Ganbare, Douki-chan'}, 'userName': 'よむ'}, {'tag': 'たこ焼き', 'locked': False, 'deletable': False, 'romaji': 'takoyaki'}, {'tag': 'オリジナル10000users入り', 'locked': False, 'deletable': False, 'romaji': 'orijinaruichimannyu-za-zuiri', 'translation': {'en': 'original 10000+ bookmarks'}}]\n"
     ]
    }
   ],
   "source": [
    "#url = \"https://www.pixiv.net/ajax/user/103410/illusts?ids%5B%5D=\" + links[0]\n",
    "url = \"https://www.pixiv.net/ajax/illust/89101579?lang=en\"\n",
    "response = requests.get(url)\n",
    "response = requests.get(url, headers=headers, timeout = 7000)\n",
    "\n",
    "\n",
    "\n",
    "print(response.status_code)\n",
    "\n",
    "soup = BeautifulSoup(response.text)\n",
    "#print(soup.get_text())\n",
    "\n",
    "x = json.loads(response.text)\n",
    "#print(x)\n",
    "\n",
    "#parsed_json = json.loads(x)\n",
    "#print(x['body']['tags']['tags'][0]['translation']['en'])\n",
    "print(x['body']['tags']['tags'])"
   ]
  },
  {
   "cell_type": "code",
   "execution_count": null,
   "id": "upset-planner",
   "metadata": {},
   "outputs": [],
   "source": []
  }
 ],
 "metadata": {
  "kernelspec": {
   "display_name": "Python 3",
   "language": "python",
   "name": "python3"
  },
  "language_info": {
   "codemirror_mode": {
    "name": "ipython",
    "version": 3
   },
   "file_extension": ".py",
   "mimetype": "text/x-python",
   "name": "python",
   "nbconvert_exporter": "python",
   "pygments_lexer": "ipython3",
   "version": "3.8.8"
  }
 },
 "nbformat": 4,
 "nbformat_minor": 5
}
