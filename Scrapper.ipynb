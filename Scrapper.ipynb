{
 "cells": [
  {
   "cell_type": "code",
   "execution_count": 10,
   "id": "billion-superior",
   "metadata": {},
   "outputs": [],
   "source": [
    "import requests\n",
    "from bs4 import BeautifulSoup\n",
    "import json\n",
    "from datetime import date"
   ]
  },
  {
   "cell_type": "code",
   "execution_count": 36,
   "id": "dressed-orange",
   "metadata": {},
   "outputs": [],
   "source": [
    "url = \"http://www.pixiv.net/ranking.php?mode=daily&date=20210413\"\n",
    "response = requests.get(url)\n",
    "headers = {'User-Agent': 'Mozilla/5.0 (Macintosh; Intel Mac OS X 10_10_1) AppleWebKit/537.36 (KHTML, like Gecko) Chrome/39.0.2171.95 Safari/537.36', \n",
    "          'password': 'rd.)T6vF',\n",
    "          'pixiv_id' : 'flicfloclol@hotmail.fr'}\n",
    "response = requests.get(url, headers=headers, timeout = 10)\n",
    "\n",
    "parse = url.split('&')\n",
    "\n",
    "\n",
    "if (len(parse) == 1):\n",
    "    rankingDate = date.today()\n",
    "else:\n",
    "    rankingDate = parse[1][5:9] + '-' + parse[1][9:11] + '-' + parse[1][11:13]\n",
    "\n",
    "\n",
    "soup = BeautifulSoup(response.text)\n",
    "links = []\n",
    "\n",
    "# for single illustration (different class)\n",
    "for link in soup.find_all('a', class_=\"work _work\"):\n",
    "    links.append(\"https://www.pixiv.net/ajax/illust/\" + link.get('href').split('/')[2] + \"?lang=en\")\n",
    "    \n",
    "# for multiple illustrations (different class)\\n\",\n",
    "for link in soup.find_all('a', class_=\"work _work multiple\"):\n",
    "    links.append(\"https://www.pixiv.net/ajax/illust/\" + link.get('href').split('/')[2] + \"?lang=en\")\n",
    "\n"
   ]
  },
  {
   "cell_type": "code",
   "execution_count": 37,
   "id": "broadband-pregnancy",
   "metadata": {
    "scrolled": true
   },
   "outputs": [
    {
     "name": "stdout",
     "output_type": "stream",
     "text": [
      "{0: {'date': '2021-04-13', 'username': 'のう', 'tags': ['Kairiki bear', 'Venom', 'これが神か', 'thank you very much!', '買うしかない', 'original 7,500+ bookmarks']}, 1: {'date': '2021-04-13', 'username': 'よむ', 'tags': ['Ganbare, Douki-chan', 'original 10000+ bookmarks']}, 2: {'date': '2021-04-13', 'username': 'ryota', 'tags': ['original']}, 3: {'date': '2021-04-13', 'username': 'マコミック', 'tags': ['original', 'girl', 'lolita dress', 'snow white', 'piercing', 'boy-cut', 'original 5000+ bookmarks']}, 4: {'date': '2021-04-13', 'username': '我美蘭☆FGOAC概念礼装', 'tags': ['SAO', 'sword art online', 'Sinon', 'Sinon (SAO)', 'esue-o-ichimannyu-za-zuiri', 'harinezumi']}, 5: {'date': '2021-04-13', 'username': '館田ダン', 'tags': ['original', 'girl', 'two-side up', 'long blond hair', 'uniform', 'original 7,500+ bookmarks']}, 6: {'date': '2021-04-13', 'username': 'ケースワベ【K-SUWABE】', 'tags': ['Goro Majima', 'majimanoniisann', 'Yakuza', 'ｷﾘｭｳﾁｬｧｧｧﾝ', 'The Mad Dog of Shimano', '真島の兄さんマジ兄さん']}, 7: {'date': '2021-04-13', 'username': 'チャイ', 'tags': ['original', 'Sweets Bird', 'ここに巣を作ろう', 'コーヒーとり', 'subarashikihokkorinosekai', 'happy baby birds', '伝説のストローカリバー', 'ティラミスの地層で化石探し']}, 8: {'date': '2021-04-13', 'username': 'まふゆ', 'tags': ['cat ears', 'hanami', 'original 5000+ bookmarks']}, 9: {'date': '2021-04-13', 'username': 'チャイ', 'tags': ['original', 'ikimonogohann', 'shirokumasann', 'しろくまサンド', 'subarashikihokkorinosekai', '※しろくまは付属しておりません', 'ここに巣を作ろう', '関西から来たふわふわベッド', 'ゆったーり']}, 10: {'date': '2021-04-13', 'username': 'rsef', 'tags': ['girl', 'young girl', 'evangelion', 'Shikinami Asuka Langley', 'Evangelion 1000+ bookmarks']}, 11: {'date': '2021-04-13', 'username': '朝日川日和', 'tags': ['Genshin Impact', 'Qiqi (Genshin Impact)']}, 12: {'date': '2021-04-13', 'username': '92M', 'tags': ['Uma Musume Pretty Derby', 'umamusumenoraisushawa-', 'oniisamahoihoi', 'umamusumepurithi-da-bi-gosennyu-za-iri']}, 13: {'date': '2021-04-13', 'username': 'さかいワカ🌎お仕事募集中', 'tags': ['manga', '4-koma', 'Nijisanji', 'Akabane Youko', 'Yuika Shiina', 'Ririmu Makaino', 'Himawari Honma', 'Saku Sasaki', 'Virtual YouTuber 1000+ bookmarks', '笹木は嫌われている']}, 14: {'date': '2021-04-13', 'username': 'わたお', 'tags': ['Genshin Impact', 'Ganyu (Genshin Impact)', 'heavenly ass', 'Genshin Impact 10000+ bookmarks']}, 15: {'date': '2021-04-13', 'username': 'Puracotte＊ぷらこ', 'tags': ['girl', 'original', 'Easter']}, 16: {'date': '2021-04-13', 'username': 'a20', 'tags': ['work illustration', 'girl']}, 17: {'date': '2021-04-13', 'username': 'SuperPig', 'tags': ['original', 'girl', 'pajamas', 'barefoot', 'bellybutton', 'original 5000+ bookmarks', 'just woke up']}, 18: {'date': '2021-04-13', 'username': '木野花（ひらんこ）', 'tags': ['rei ayanami', 'ayanamireikashou', 'plugsuit', 'neon genesis evangelion', 'evangelion', 'Evangelion New Theatrical Release', 'shinnevanngerionngekijoubann', 'Evangelion 1000+ bookmarks']}, 19: {'date': '2021-04-13', 'username': 'そらなにいろ', 'tags': ['original', 'elf', 'breasts', 'cleavage', 'bewitching thighs', 'sexy clothes', 'momopuku', 'hot elf', 'original 10000+ bookmarks']}, 20: {'date': '2021-04-13', 'username': '碧風羽 BOOTH店オープン', 'tags': ['original', 'girl', 'horror', 'hair', 'enchanting eyes', 'long hair']}, 21: {'date': '2021-04-13', 'username': 'コユコム', 'tags': ['horse girl', 'Gold Ship (UMPD)', 'Mejiro McQueen (UMPD)', 'Uma Musume Pretty Derby', 'gorumaku', 'umaamusumepurithi-da-bi-sennyu-za-iri', 'magorushi-']}, 22: {'date': '2021-04-13', 'username': '炬ﾖﾂｷﾞ', 'tags': ['original', 'greyscale']}, 23: {'date': '2021-04-13', 'username': '40原', 'tags': ['original', 'Kinako (IyaPan)', 'My Cat is a Cute Girl', 'gijinka', 'きなこ(リアルタイプ)', 'wink', 'doubutsukaramanabupoozumaniakkusu', 'original 5000+ bookmarks']}, 24: {'date': '2021-04-13', 'username': '天三月', 'tags': ['original', 'JK', 'heavenly ass', 'panties', 'high-quality panties', 'black stockings', 'black tights', 'original 7,500+ bookmarks', 'ass worth face-snuggling']}, 25: {'date': '2021-04-13', 'username': 'かわやばぐ', 'tags': ['Uma Musume Pretty Derby', 'agunesutakionn', 'overly long sleeves', 'umaamusumepurithi-da-bi-sennyu-za-iri']}, 26: {'date': '2021-04-13', 'username': '画师JW', 'tags': ['scenery', 'background', 'creation', 'original', 'original', 'doodle', 'illustration', 'original works', 'illustration', 'sky']}, 27: {'date': '2021-04-13', 'username': 'こむぎこ2000', 'tags': ['girl', 'original', 'creation', 'illustration', 'こむぎこ2000', 'refined taste', 'jersey']}, 28: {'date': '2021-04-13', 'username': '陌芋Marginal', 'tags': ['Arknights', 'yuri', 'Arknights', 'girl', 'Arknights', 'Hoshiguma', \"Ch'en\", \"Hoshiguma/Ch'en\", 'チェン/ホシグマ/アークナイツ1000users入り']}, 29: {'date': '2021-04-13', 'username': 'ツチヤ', 'tags': ['scenery', 'background', 'original']}, 30: {'date': '2021-04-13', 'username': 'やんよ', 'tags': ['Uma Musume Pretty Derby', 'horse girl', 'agunesutakionn', 'agunesutakionn', 'overly long sleeves', 'umamusumepurithi-da-bi-gosennyu-za-iri']}, 31: {'date': '2021-04-13', 'username': 'Ryota-H', 'tags': ['original', 'maid']}, 32: {'date': '2021-04-13', 'username': '月夜', 'tags': ['girl', 'original', 'angel']}, 33: {'date': '2021-04-13', 'username': 'うた坊', 'tags': ['original']}, 34: {'date': '2021-04-13', 'username': '乃木電機', 'tags': ['Fate/GrandOrder', 'FGO', 'Agravain (Fate)', 'Heroine/Alter', 'Kei', 'Artoria Pendragon', 'Fate/GO 100+ bookmarks']}, 35: {'date': '2021-04-13', 'username': 'およ', 'tags': ['Megumi Fushiguro', 'Jujutsu Kaisen', 'beautiful', 'Jujutsu Kaisen 1000+ bookmarks']}, 36: {'date': '2021-04-13', 'username': 'よむ', 'tags': ['Ganbare, Douki-chan', 'takoyaki', 'original 10000+ bookmarks']}, 37: {'date': '2021-04-13', 'username': '赤倉', 'tags': ['Jujutsu Kaisen', 'Satoru Gojo', 'Jujutsu Kaisen 10000+ bookmarks', 'beautiful']}, 38: {'date': '2021-04-13', 'username': 'しらび', 'tags': ['86 -eightysix-', 'Dengeki Bunko', 'official', 'エイティシックス10000users入り']}, 39: {'date': '2021-04-13', 'username': 'hakusai', 'tags': ['VOCALOID', 'hatsune miku', 'snow miku', '雪ミク2022', 'girl', 'twin ponytails', 'Miku must be an angel', 'Vocaloid 500+ Bookmarks']}, 40: {'date': '2021-04-13', 'username': '江鳥', 'tags': ['manga', 'female clothing', 'original', 'maid uniform', 'maasounaruna']}, 41: {'date': '2021-04-13', 'username': '虹オム', 'tags': ['Fate/GrandOrder', 'FGO', 'Avicebron (Fate)', 'アヴィぐだ♀', 'Gudako', 'garatea', 'Voyager (Fate)', 'Mandricardo (Fate)']}, 42: {'date': '2021-04-13', 'username': 'りとば', 'tags': ['Fate/GrandOrder', 'yuri', 'Gudako', 'Mashu Kyrielight', 'ギャラマシュ', 'Abigail Williams (Fate)', 'Pollux (Fate)', 'Yu Miaoyi (Fate)', 'Meltlilith (swimsuit)']}, 43: {'date': '2021-04-13', 'username': 'JaneMere', 'tags': ['inuyasha', 'Yashahime: Princess Half-Demon', 'sesshomaru']}, 44: [], 45: [], 46: [], 47: [], 48: [], 49: []}\n"
     ]
    }
   ],
   "source": [
    "#url = \"https://www.pixiv.net/ajax/ill?lang=enust/89101579\"\n",
    "\n",
    "data = {data_list: [] for data_list in range(50)}\n",
    "\n",
    "counter = 0\n",
    "\n",
    "for url in links:\n",
    "\n",
    "    \n",
    "    data[counter] = {}\n",
    "    response = requests.get(url, headers=headers, timeout = 100)\n",
    "    jsonData = json.loads(response.text)\n",
    "\n",
    "    tags = []\n",
    "    data[counter].update({'date' : rankingDate})\n",
    "    data[counter].update({'username' : jsonData['body']['userName']})\n",
    "\n",
    "    for i in jsonData['body']['tags']['tags']:\n",
    "        if 'translation' not in i:\n",
    "            if 'romaji' not in i:\n",
    "                tags.append(i['tag'])\n",
    "            else:\n",
    "                tags.append(i['romaji'])\n",
    "        else:\n",
    "            tags.append(i['translation']['en'])\n",
    "    \n",
    "    data[counter].update({'tags' : tags})\n",
    "    counter += 1\n",
    "    \n",
    "print(data)\n",
    "\n",
    "#data.update({'tags' : data[0]})\n",
    "#print(data)\n",
    "#print(data['tags'])\n",
    "    \n",
    "    \n",
    "    #print(len(x['body']['tags']['tags']))\n",
    "    #print(x['body']['tags']['tags'])"
   ]
  },
  {
   "cell_type": "code",
   "execution_count": null,
   "id": "upset-planner",
   "metadata": {},
   "outputs": [],
   "source": [
    "data { \n",
    "    {\n",
    "        tags: {},\n",
    "        username : ,\n",
    "        date :\n",
    "    },\n",
    "    {\n",
    "        tags: {},\n",
    "        username : ,\n",
    "        date :\n",
    "    }\n",
    "}"
   ]
  },
  {
   "cell_type": "code",
   "execution_count": 34,
   "id": "prerequisite-island",
   "metadata": {},
   "outputs": [
    {
     "name": "stdout",
     "output_type": "stream",
     "text": [
      "のう\n"
     ]
    }
   ],
   "source": [
    "print(jsonData['body']['userName'])"
   ]
  },
  {
   "cell_type": "code",
   "execution_count": null,
   "id": "monetary-tissue",
   "metadata": {},
   "outputs": [],
   "source": []
  }
 ],
 "metadata": {
  "kernelspec": {
   "display_name": "Python 3",
   "language": "python",
   "name": "python3"
  },
  "language_info": {
   "codemirror_mode": {
    "name": "ipython",
    "version": 3
   },
   "file_extension": ".py",
   "mimetype": "text/x-python",
   "name": "python",
   "nbconvert_exporter": "python",
   "pygments_lexer": "ipython3",
   "version": "3.8.8"
  }
 },
 "nbformat": 4,
 "nbformat_minor": 5
}
