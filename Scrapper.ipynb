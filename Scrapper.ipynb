{
 "cells": [
  {
   "cell_type": "code",
   "execution_count": 58,
   "id": "billion-superior",
   "metadata": {},
   "outputs": [
    {
     "data": {
      "text/plain": [
       "200"
      ]
     },
     "execution_count": 58,
     "metadata": {},
     "output_type": "execute_result"
    }
   ],
   "source": [
    "import requests\n",
    "import requests\n",
    "from bs4 import BeautifulSoup"
   ]
  },
  {
   "cell_type": "code",
   "execution_count": 61,
   "id": "dressed-orange",
   "metadata": {},
   "outputs": [
    {
     "name": "stdout",
     "output_type": "stream",
     "text": [
      "['89070034', '89071274', '89068934', '89089711', '89068978', '89109614', '89068988', '89072784', '89094862', '89095933', '89068898', '89075330', '89072215', '89110432', '89069000', '89069060', '89069757', '89107668', '89113282', '89095580', '89069891', '89107270', '89081191', '89092386', '89074522', '89068901', '89077477', '89081000', '89086580', '89084248', '89096137', '89068921', '89086852', '89081707', '89068903', '89101579', '89086359', '89069792', '89092100', '89076404', '89081506']\n"
     ]
    }
   ],
   "source": [
    "url = \"http://www.pixiv.net/ranking.php\"\n",
    "response = requests.get(url)\n",
    "headers = {'User-Agent': 'Mozilla/5.0 (Macintosh; Intel Mac OS X 10_10_1) AppleWebKit/537.36 (KHTML, like Gecko) Chrome/39.0.2171.95 Safari/537.36', \n",
    "          'password': 'rd.)T6vF',\n",
    "          'pixiv_id' : 'flicfloclol@hotmail.fr'}\n",
    "response = requests.get(url, headers=headers, timeout = 10)\n",
    "\n",
    "response.status_code\n",
    "\n",
    "soup = BeautifulSoup(response.text)\n",
    "links = []\n",
    "\n",
    "for link in soup.find_all('a', class_=\"work _work\"):\n",
    "    links.append(link.get('href').split('/')[2])\n",
    "    \n",
    "for link in soup.find_all('a', class_=\"work _work multiple\"):\n",
    "    links.append(link.get('href').split('/')[2])\n",
    "    \n",
    "print(links)\n",
    "\n"
   ]
  },
  {
   "cell_type": "code",
   "execution_count": 64,
   "id": "broadband-pregnancy",
   "metadata": {},
   "outputs": [
    {
     "name": "stdout",
     "output_type": "stream",
     "text": [
      "200\n",
      "#綾波レイ 綾波 - スコッティのイラスト - pixiv\n",
      "\n",
      "\n",
      "\n",
      "\n",
      "\n",
      "\n"
     ]
    }
   ],
   "source": [
    "#url = \"https://www.pixiv.net/ajax/user/103410/illusts?ids%5B%5D=\" + links[0]\n",
    "url = \"https://www.pixiv.net/en/artworks/89070034\"\n",
    "response = requests.get(url)\n",
    "response = requests.get(url, headers=headers, timeout = 7000)\n",
    "\n",
    "\n",
    "\n",
    "print(response.status_code)\n",
    "\n",
    "soup = BeautifulSoup(response.text)\n",
    "print(soup.get_text())\n",
    "for link in soup.find_all('figcaption'):\n",
    "    print(link)\n"
   ]
  },
  {
   "cell_type": "code",
   "execution_count": null,
   "id": "upset-planner",
   "metadata": {},
   "outputs": [],
   "source": []
  }
 ],
 "metadata": {
  "kernelspec": {
   "display_name": "Python 3",
   "language": "python",
   "name": "python3"
  },
  "language_info": {
   "codemirror_mode": {
    "name": "ipython",
    "version": 3
   },
   "file_extension": ".py",
   "mimetype": "text/x-python",
   "name": "python",
   "nbconvert_exporter": "python",
   "pygments_lexer": "ipython3",
   "version": "3.8.8"
  }
 },
 "nbformat": 4,
 "nbformat_minor": 5
}
