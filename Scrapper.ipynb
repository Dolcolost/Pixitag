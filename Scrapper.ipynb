{
 "cells": [
  {
   "cell_type": "code",
   "execution_count": null,
   "id": "developing-change",
   "metadata": {},
   "outputs": [],
   "source": [
    "pip install plotly==4.14.3"
   ]
  },
  {
   "cell_type": "code",
   "execution_count": 40,
   "id": "billion-superior",
   "metadata": {},
   "outputs": [],
   "source": [
    "import requests\n",
    "from bs4 import BeautifulSoup\n",
    "import json\n",
    "from datetime import date\n",
    "from pymongo import MongoClient\n",
    "import pandas as pd\n",
    "import plotly.express as px\n",
    "import plotly.graph_objects as go"
   ]
  },
  {
   "cell_type": "code",
   "execution_count": 2,
   "id": "diverse-allah",
   "metadata": {},
   "outputs": [],
   "source": [
    "client = MongoClient('mongo')\n",
    "database = client['local']\n",
    "collection = database['pixitag']"
   ]
  },
  {
   "cell_type": "code",
   "execution_count": 53,
   "id": "dressed-orange",
   "metadata": {},
   "outputs": [],
   "source": [
    "url = \"http://www.pixiv.net/ranking.php?mode=daily\"\n",
    "response = requests.get(url)\n",
    "headers = {'User-Agent': 'Mozilla/5.0 (Macintosh; Intel Mac OS X 10_10_1) AppleWebKit/537.36 (KHTML, like Gecko) Chrome/39.0.2171.95 Safari/537.36', \n",
    "          'password': 'rd.)T6vF',\n",
    "          'pixiv_id' : 'flicfloclol@hotmail.fr'}\n",
    "response = requests.get(url, headers=headers, timeout = 10)\n",
    "\n",
    "parse = url.split('&')\n",
    "\n",
    "imageId = []\n",
    "\n",
    "\n",
    "if (len(parse) == 1):\n",
    "    rankingDate = str(date.today())   \n",
    "else:\n",
    "    rankingDate = parse[1][5:9] + '-' + parse[1][9:11] + '-' + parse[1][11:13]\n",
    "\n",
    "\n",
    "soup = BeautifulSoup(response.text)\n",
    "links = []\n",
    "\n",
    "# for single illustration (different class)\n",
    "for link in soup.find_all('a', class_=\"work _work\"):\n",
    "    links.append(\"https://www.pixiv.net/ajax/illust/\" + link.get('href').split('/')[2] + \"?lang=en\")\n",
    "    imageId.append(link.get('href').split('/')[2])\n",
    "    \n",
    "# for multiple illustrations (different class)\\n\",\n",
    "for link in soup.find_all('a', class_=\"work _work multiple\"):\n",
    "    links.append(\"https://www.pixiv.net/ajax/illust/\" + link.get('href').split('/')[2] + \"?lang=en\")\n",
    "    imageId.append(link.get('href').split('/')[2])\n",
    "\n"
   ]
  },
  {
   "cell_type": "code",
   "execution_count": 54,
   "id": "broadband-pregnancy",
   "metadata": {
    "scrolled": true
   },
   "outputs": [
    {
     "name": "stdout",
     "output_type": "stream",
     "text": [
      "[{'tag': 'Gold Ship', 'date': '2021-04-18', 'username': 'Nardack', 'imageId': '89174625'}, {'tag': 'gorushi', 'date': '2021-04-18', 'username': 'Nardack', 'imageId': '89174625'}, {'tag': 'Uma Musume Pretty Derby', 'date': '2021-04-18', 'username': 'Nardack', 'imageId': '89174625'}, {'tag': 'horse girl', 'date': '2021-04-18', 'username': 'Nardack', 'imageId': '89174625'}, {'tag': 'high boots', 'date': '2021-04-18', 'username': 'Nardack', 'imageId': '89174625'}, {'tag': 'korekosogago-rudoshippu', 'date': '2021-04-18', 'username': 'Nardack', 'imageId': '89174625'}, {'tag': 'armpits', 'date': '2021-04-18', 'username': 'Nardack', 'imageId': '89174625'}, {'tag': 'umamusumepurithi-da-bi-ichimannyu-za-iri', 'date': '2021-04-18', 'username': 'Nardack', 'imageId': '89174625'}, {'tag': 'Gold Ship (UMPD)', 'date': '2021-04-18', 'username': 'Nardack', 'imageId': '89174625'}, {'tag': '寒いとドラミングかます美少女', 'date': '2021-04-18', 'username': 'Nardack', 'imageId': '89174625'}, {'tag': 'scenery', 'date': '2021-04-18', 'username': 'コーラ', 'imageId': '89174736'}, {'tag': 'original', 'date': '2021-04-18', 'username': 'コーラ', 'imageId': '89174736'}, {'tag': 'sakura', 'date': '2021-04-18', 'username': 'コーラ', 'imageId': '89174736'}, {'tag': 'cola exists', 'date': '2021-04-18', 'username': 'コーラ', 'imageId': '89174736'}, {'tag': 'I want to go here', 'date': '2021-04-18', 'username': 'コーラ', 'imageId': '89174736'}, {'tag': 'refined taste', 'date': '2021-04-18', 'username': 'コーラ', 'imageId': '89174736'}, {'tag': 'foam', 'date': '2021-04-18', 'username': 'コーラ', 'imageId': '89174736'}, {'tag': 'cherry blossoms', 'date': '2021-04-18', 'username': 'コーラ', 'imageId': '89174736'}, {'tag': 'against glass', 'date': '2021-04-18', 'username': 'コーラ', 'imageId': '89174736'}, {'tag': 'scenery 10000+ bookmarks', 'date': '2021-04-18', 'username': 'コーラ', 'imageId': '89174736'}, {'tag': 'neon genesis evangelion', 'date': '2021-04-18', 'username': 'あるてら', 'imageId': '89174443'}, {'tag': 'rei ayanami', 'date': '2021-04-18', 'username': 'あるてら', 'imageId': '89174443'}, {'tag': 'plugsuit', 'date': '2021-04-18', 'username': 'あるてら', 'imageId': '89174443'}, {'tag': 'evangelion', 'date': '2021-04-18', 'username': 'あるてら', 'imageId': '89174443'}, {'tag': 'ronnguayanami', 'date': '2021-04-18', 'username': 'あるてら', 'imageId': '89174443'}, {'tag': 'Evangelion New Theatrical Release', 'date': '2021-04-18', 'username': 'あるてら', 'imageId': '89174443'}, {'tag': 'evaichimannyu-za-zuiri', 'date': '2021-04-18', 'username': 'あるてら', 'imageId': '89174443'}, {'tag': 'tight bodysuit', 'date': '2021-04-18', 'username': 'あるてら', 'imageId': '89174443'}, {'tag': 'girl', 'date': '2021-04-18', 'username': 'にもし🌞', 'imageId': '89175394'}, {'tag': 'work illustration', 'date': '2021-04-18', 'username': 'にもし🌞', 'imageId': '89175394'}, {'tag': '絵守未來Project', 'date': '2021-04-18', 'username': 'にもし🌞', 'imageId': '89175394'}, {'tag': 'Minato Aqua', 'date': '2021-04-18', 'username': 'スコッティ', 'imageId': '89175393'}, {'tag': 'Hololive', 'date': '2021-04-18', 'username': 'スコッティ', 'imageId': '89175393'}, {'tag': 'Virtual Youtuber', 'date': '2021-04-18', 'username': 'スコッティ', 'imageId': '89175393'}, {'tag': 'Minato Aqua fanart', 'date': '2021-04-18', 'username': 'スコッティ', 'imageId': '89175393'}, {'tag': 'first-rate breasts', 'date': '2021-04-18', 'username': 'スコッティ', 'imageId': '89175393'}, {'tag': 'bellybutton', 'date': '2021-04-18', 'username': 'スコッティ', 'imageId': '89175393'}, {'tag': 'sailor uniform', 'date': '2021-04-18', 'username': 'スコッティ', 'imageId': '89175393'}, {'tag': 'Virtual YouTuber 10000+ bookmarks', 'date': '2021-04-18', 'username': 'スコッティ', 'imageId': '89175393'}, {'tag': 'original', 'date': '2021-04-18', 'username': '寺田てら', 'imageId': '89174996'}, {'tag': 'creation', 'date': '2021-04-18', 'username': 'ポ～ン（出水ぽすか）', 'imageId': '89179417'}, {'tag': '誰も消防車を呼ばないのである!', 'date': '2021-04-18', 'username': 'ポ～ン（出水ぽすか）', 'imageId': '89179417'}, {'tag': 'illustration', 'date': '2021-04-18', 'username': '寺田てら', 'imageId': '89175768'}, {'tag': 'original', 'date': '2021-04-18', 'username': '寺田てら', 'imageId': '89175768'}, {'tag': 'VOCALOID', 'date': '2021-04-18', 'username': 'のう', 'imageId': '89212140'}, {'tag': 'hatsune miku', 'date': '2021-04-18', 'username': 'のう', 'imageId': '89212140'}, {'tag': 'ÜNiVERSE', 'date': '2021-04-18', 'username': 'のう', 'imageId': '89212140'}, {'tag': 'girl', 'date': '2021-04-18', 'username': 'のう', 'imageId': '89212140'}, {'tag': 'korehaiihatsune', 'date': '2021-04-18', 'username': 'のう', 'imageId': '89212140'}, {'tag': 'twin ponytails', 'date': '2021-04-18', 'username': 'のう', 'imageId': '89212140'}, {'tag': 'Vocaloid 1000+ bookmarks', 'date': '2021-04-18', 'username': 'のう', 'imageId': '89212140'}, {'tag': 'Miku must be an angel', 'date': '2021-04-18', 'username': 'のう', 'imageId': '89212140'}, {'tag': 'creation', 'date': '2021-04-18', 'username': 'ポ～ン（出水ぽすか）', 'imageId': '89199251'}, {'tag': 'original', 'date': '2021-04-18', 'username': 'Atha（アサ）', 'imageId': '89174589'}, {'tag': 'girl', 'date': '2021-04-18', 'username': 'Atha（アサ）', 'imageId': '89174589'}, {'tag': 'kimono', 'date': '2021-04-18', 'username': 'Atha（アサ）', 'imageId': '89174589'}, {'tag': 'lying on one side', 'date': '2021-04-18', 'username': 'Atha（アサ）', 'imageId': '89174589'}, {'tag': 'kinotomonori', 'date': '2021-04-18', 'username': 'Atha（アサ）', 'imageId': '89174589'}, {'tag': 'original', 'date': '2021-04-18', 'username': 'チャイ', 'imageId': '89188590'}, {'tag': 'subarashikihokkorinosekai', 'date': '2021-04-18', 'username': 'チャイ', 'imageId': '89188590'}, {'tag': 'クマディアン', 'date': '2021-04-18', 'username': 'チャイ', 'imageId': '89188590'}, {'tag': 'チャップリーーン', 'date': '2021-04-18', 'username': 'チャイ', 'imageId': '89188590'}, {'tag': '可愛すぎるふぉーまる', 'date': '2021-04-18', 'username': 'チャイ', 'imageId': '89188590'}, {'tag': 'くまっぷりん', 'date': '2021-04-18', 'username': 'チャイ', 'imageId': '89188590'}, {'tag': 'shirokumasann', 'date': '2021-04-18', 'username': 'チャイ', 'imageId': '89188590'}, {'tag': 'しろくまさん(フォーマルver.)', 'date': '2021-04-18', 'username': 'チャイ', 'imageId': '89188590'}, {'tag': 'Uma Musume Pretty Derby', 'date': '2021-04-18', 'username': 'ガしガし', 'imageId': '89175076'}, {'tag': 'Pokémon', 'date': '2021-04-18', 'username': 'ガしガし', 'imageId': '89175076'}, {'tag': 'Gold Ship (UMPD)', 'date': '2021-04-18', 'username': 'ガしガし', 'imageId': '89175076'}, {'tag': 'Toxtricity', 'date': '2021-04-18', 'username': 'ガしガし', 'imageId': '89175076'}, {'tag': 'korekosogago-rudoshippu', 'date': '2021-04-18', 'username': 'ガしガし', 'imageId': '89175076'}, {'tag': 'umaamusumepurithi-da-bi-sennyu-za-iri', 'date': '2021-04-18', 'username': 'ガしガし', 'imageId': '89175076'}, {'tag': 'original', 'date': '2021-04-18', 'username': '七日Nanoka', 'imageId': '89182930'}, {'tag': 'girl', 'date': '2021-04-18', 'username': '七日Nanoka', 'imageId': '89182930'}, {'tag': 'barefoot', 'date': '2021-04-18', 'username': '七日Nanoka', 'imageId': '89182930'}, {'tag': 'bottomless', 'date': '2021-04-18', 'username': '七日Nanoka', 'imageId': '89182930'}, {'tag': 'copyright', 'date': '2021-04-18', 'username': 'うさもち。', 'imageId': '89180901'}, {'tag': 'Genshin Impact', 'date': '2021-04-18', 'username': 'うさもち。', 'imageId': '89180901'}, {'tag': 'firefly', 'date': '2021-04-18', 'username': 'うさもち。', 'imageId': '89180901'}, {'tag': 'sakura', 'date': '2021-04-18', 'username': 'うさもち。', 'imageId': '89180901'}, {'tag': 'Genshin', 'date': '2021-04-18', 'username': 'うさもち。', 'imageId': '89180901'}, {'tag': 'Genshin Impact 1000+ bookmarks', 'date': '2021-04-18', 'username': 'うさもち。', 'imageId': '89180901'}, {'tag': 'Uma Musume Pretty Derby', 'date': '2021-04-18', 'username': 'とも', 'imageId': '89174753'}, {'tag': 'horse girl', 'date': '2021-04-18', 'username': 'とも', 'imageId': '89174753'}, {'tag': 'umamusumenoraisushawa-', 'date': '2021-04-18', 'username': 'とも', 'imageId': '89174753'}, {'tag': 'oniisamahoihoi', 'date': '2021-04-18', 'username': 'とも', 'imageId': '89174753'}, {'tag': 'umapyoidennsetsu', 'date': '2021-04-18', 'username': 'とも', 'imageId': '89174753'}, {'tag': 'umaamusumepurithi-da-bi-sennyu-za-iri', 'date': '2021-04-18', 'username': 'とも', 'imageId': '89174753'}, {'tag': 'hands forming a heart', 'date': '2021-04-18', 'username': 'とも', 'imageId': '89174753'}, {'tag': 'original', 'date': '2021-04-18', 'username': 'iren', 'imageId': '89193934'}, {'tag': 'girl', 'date': '2021-04-18', 'username': 'iren', 'imageId': '89193934'}, {'tag': 'high school girl', 'date': '2021-04-18', 'username': 'iren', 'imageId': '89193934'}, {'tag': 'sailor uniform', 'date': '2021-04-18', 'username': 'iren', 'imageId': '89193934'}, {'tag': 'long black hair', 'date': '2021-04-18', 'username': 'iren', 'imageId': '89193934'}, {'tag': 'beautiful', 'date': '2021-04-18', 'username': 'iren', 'imageId': '89193934'}, {'tag': 'original', 'date': '2021-04-18', 'username': '佐倉おりこ@単行本発売中', 'imageId': '89193718'}, {'tag': 'girl', 'date': '2021-04-18', 'username': '佐倉おりこ@単行本発売中', 'imageId': '89193718'}, {'tag': 'work illustration', 'date': '2021-04-18', 'username': '佐倉おりこ@単行本発売中', 'imageId': '89193718'}, {'tag': 'animal ears', 'date': '2021-04-18', 'username': '佐倉おりこ@単行本発売中', 'imageId': '89193718'}, {'tag': 'bunny ears', 'date': '2021-04-18', 'username': '佐倉おりこ@単行本発売中', 'imageId': '89193718'}, {'tag': 'fairy tale', 'date': '2021-04-18', 'username': '佐倉おりこ@単行本発売中', 'imageId': '89193718'}, {'tag': 'pink hair', 'date': '2021-04-18', 'username': '佐倉おりこ@単行本発売中', 'imageId': '89193718'}, {'tag': 'gloves', 'date': '2021-04-18', 'username': '佐倉おりこ@単行本発売中', 'imageId': '89193718'}, {'tag': 'frills', 'date': '2021-04-18', 'username': '佐倉おりこ@単行本発売中', 'imageId': '89193718'}, {'tag': 'original', 'date': '2021-04-18', 'username': 'チャイ', 'imageId': '89214592'}, {'tag': 'ikimonogohann', 'date': '2021-04-18', 'username': 'チャイ', 'imageId': '89214592'}, {'tag': '可愛すぎる威嚇', 'date': '2021-04-18', 'username': 'チャイ', 'imageId': '89214592'}, {'tag': 'Original 100+ bookmarks', 'date': '2021-04-18', 'username': 'チャイ', 'imageId': '89214592'}, {'tag': 'subarashikihokkorinosekai', 'date': '2021-04-18', 'username': 'チャイ', 'imageId': '89214592'}, {'tag': 'ここに巣を作ろう', 'date': '2021-04-18', 'username': 'チャイ', 'imageId': '89214592'}, {'tag': 'これならいくら威嚇されてもいい', 'date': '2021-04-18', 'username': 'チャイ', 'imageId': '89214592'}, {'tag': 'I thought of it first', 'date': '2021-04-18', 'username': 'チャイ', 'imageId': '89214592'}, {'tag': 'ナイスバランス', 'date': '2021-04-18', 'username': 'チャイ', 'imageId': '89214592'}, {'tag': 'white tights', 'date': '2021-04-18', 'username': '翼つばさ', 'imageId': '89196432'}, {'tag': 'yuri', 'date': '2021-04-18', 'username': '翼つばさ', 'imageId': '89196432'}, {'tag': 'jikabaki', 'date': '2021-04-18', 'username': '翼つばさ', 'imageId': '89196432'}, {'tag': 'Bronya Zaychik', 'date': '2021-04-18', 'username': '翼つばさ', 'imageId': '89196432'}, {'tag': 'Seele Vollerei', 'date': '2021-04-18', 'username': '翼つばさ', 'imageId': '89196432'}, {'tag': 'Guns Girl School DayZ', 'date': '2021-04-18', 'username': '翼つばさ', 'imageId': '89196432'}, {'tag': 'Honkai Impact 3', 'date': '2021-04-18', 'username': '翼つばさ', 'imageId': '89196432'}, {'tag': 'sole', 'date': '2021-04-18', 'username': '翼つばさ', 'imageId': '89196432'}, {'tag': 'The soles of feet in socks', 'date': '2021-04-18', 'username': '翼つばさ', 'imageId': '89196432'}, {'tag': 'houkaigakuenngosennyu-za-zuiri', 'date': '2021-04-18', 'username': '翼つばさ', 'imageId': '89196432'}, {'tag': 'original', 'date': '2021-04-18', 'username': 'サブロー', 'imageId': '89180735'}, {'tag': 'girl', 'date': '2021-04-18', 'username': 'サブロー', 'imageId': '89180735'}, {'tag': 'long gloves', 'date': '2021-04-18', 'username': 'サブロー', 'imageId': '89180735'}, {'tag': 'first-rate breasts', 'date': '2021-04-18', 'username': 'サブロー', 'imageId': '89180735'}, {'tag': 'slingshot', 'date': '2021-04-18', 'username': 'サブロー', 'imageId': '89180735'}, {'tag': 'breasts', 'date': '2021-04-18', 'username': 'サブロー', 'imageId': '89180735'}, {'tag': 'tight', 'date': '2021-04-18', 'username': 'サブロー', 'imageId': '89180735'}, {'tag': 'miwakunokokann', 'date': '2021-04-18', 'username': 'サブロー', 'imageId': '89180735'}, {'tag': 'original 5000+ bookmarks', 'date': '2021-04-18', 'username': 'サブロー', 'imageId': '89180735'}, {'tag': 'girl', 'date': '2021-04-18', 'username': '尾上廉', 'imageId': '89176001'}, {'tag': 'original', 'date': '2021-04-18', 'username': '尾上廉', 'imageId': '89176001'}, {'tag': 'creation', 'date': '2021-04-18', 'username': '尾上廉', 'imageId': '89176001'}, {'tag': 'white hair', 'date': '2021-04-18', 'username': '尾上廉', 'imageId': '89176001'}, {'tag': 'book', 'date': '2021-04-18', 'username': '尾上廉', 'imageId': '89176001'}, {'tag': 'OC', 'date': '2021-04-18', 'username': '尾上廉', 'imageId': '89176001'}, {'tag': 'knitted vest', 'date': '2021-04-18', 'username': '尾上廉', 'imageId': '89176001'}, {'tag': 'Nijigasaki High School School Idol Club', 'date': '2021-04-18', 'username': 'ゴミョン', 'imageId': '89174795'}, {'tag': 'Ayumu Uehara', 'date': '2021-04-18', 'username': 'ゴミョン', 'imageId': '89174795'}, {'tag': 'beautiful girl', 'date': '2021-04-18', 'username': 'ゴミョン', 'imageId': '89174795'}, {'tag': 'Love Live! 1000+ bookmarks', 'date': '2021-04-18', 'username': 'ゴミョン', 'imageId': '89174795'}, {'tag': 'horse girl', 'date': '2021-04-18', 'username': 'TOKKYU', 'imageId': '89193657'}, {'tag': 'Gold Ship', 'date': '2021-04-18', 'username': 'TOKKYU', 'imageId': '89193657'}, {'tag': 'Uma Musume Pretty Derby', 'date': '2021-04-18', 'username': 'TOKKYU', 'imageId': '89193657'}, {'tag': '蹴られた後', 'date': '2021-04-18', 'username': 'TOKKYU', 'imageId': '89193657'}, {'tag': 'これが恋か', 'date': '2021-04-18', 'username': 'TOKKYU', 'imageId': '89193657'}, {'tag': 'umaamusumepurithi-da-bi-sennyu-za-iri', 'date': '2021-04-18', 'username': 'TOKKYU', 'imageId': '89193657'}, {'tag': 'Hololive', 'date': '2021-04-18', 'username': 'Rosuuri', 'imageId': '89193709'}, {'tag': 'Watson Amelia', 'date': '2021-04-18', 'username': 'Rosuuri', 'imageId': '89193709'}, {'tag': 'WatsonAmelia', 'date': '2021-04-18', 'username': 'Rosuuri', 'imageId': '89193709'}, {'tag': 'Hololive EN', 'date': '2021-04-18', 'username': 'Rosuuri', 'imageId': '89193709'}, {'tag': 'Virtual Youtuber', 'date': '2021-04-18', 'username': 'Rosuuri', 'imageId': '89193709'}, {'tag': 'HololiveEN', 'date': '2021-04-18', 'username': 'Rosuuri', 'imageId': '89193709'}, {'tag': 'ameliaRT', 'date': '2021-04-18', 'username': 'Rosuuri', 'imageId': '89193709'}, {'tag': 'wet see-through', 'date': '2021-04-18', 'username': 'Rosuuri', 'imageId': '89193709'}, {'tag': 'visible bra', 'date': '2021-04-18', 'username': 'Rosuuri', 'imageId': '89193709'}, {'tag': 'Virtual YouTuber 5000+ bookmarks', 'date': '2021-04-18', 'username': 'Rosuuri', 'imageId': '89193709'}, {'tag': '隣のクーデレラを甘やかしたら、ウチの合鍵を渡すことになった', 'date': '2021-04-18', 'username': 'かがちさく', 'imageId': '89174458'}, {'tag': 'Dengeki Bunko', 'date': '2021-04-18', 'username': 'かがちさく', 'imageId': '89174458'}, {'tag': 'work illustration', 'date': '2021-04-18', 'username': 'かがちさく', 'imageId': '89174458'}, {'tag': 'original', 'date': '2021-04-18', 'username': 'かがちさく', 'imageId': '89174458'}, {'tag': 'young girl', 'date': '2021-04-18', 'username': 'A_maru', 'imageId': '89175645'}, {'tag': 'girl', 'date': '2021-04-18', 'username': 'A_maru', 'imageId': '89175645'}, {'tag': 'Saber Lily', 'date': '2021-04-18', 'username': 'A_maru', 'imageId': '89175645'}, {'tag': 'FGO', 'date': '2021-04-18', 'username': 'A_maru', 'imageId': '89175645'}, {'tag': 'Fate/GrandOrder', 'date': '2021-04-18', 'username': 'A_maru', 'imageId': '89175645'}, {'tag': 'Fate 1000+ bookmarks', 'date': '2021-04-18', 'username': 'A_maru', 'imageId': '89175645'}, {'tag': 'Project Sekai', 'date': '2021-04-18', 'username': '隻奈', 'imageId': '89206593'}, {'tag': 'Tsukasa Tenma', 'date': '2021-04-18', 'username': '隻奈', 'imageId': '89206593'}, {'tag': 'Tenma Saki', 'date': '2021-04-18', 'username': '隻奈', 'imageId': '89206593'}, {'tag': 'purojekutosekaigohyakuyu-za-zuiri', 'date': '2021-04-18', 'username': '隻奈', 'imageId': '89206593'}, {'tag': 'purosekasennyu-za-zuiri', 'date': '2021-04-18', 'username': '隻奈', 'imageId': '89206593'}, {'tag': '天馬兄妹', 'date': '2021-04-18', 'username': '隻奈', 'imageId': '89206593'}, {'tag': 'original', 'date': '2021-04-18', 'username': 'Riko@お仕事募集中', 'imageId': '89176259'}, {'tag': 'girl', 'date': '2021-04-18', 'username': 'Riko@お仕事募集中', 'imageId': '89176259'}, {'tag': 'sickness', 'date': '2021-04-18', 'username': 'Riko@お仕事募集中', 'imageId': '89176259'}, {'tag': 'thighs', 'date': '2021-04-18', 'username': 'Riko@お仕事募集中', 'imageId': '89176259'}, {'tag': 'twin ponytails', 'date': '2021-04-18', 'username': 'Riko@お仕事募集中', 'imageId': '89176259'}, {'tag': 'rixyousanngata', 'date': '2021-04-18', 'username': 'Riko@お仕事募集中', 'imageId': '89176259'}, {'tag': '地雷系', 'date': '2021-04-18', 'username': 'Riko@お仕事募集中', 'imageId': '89176259'}, {'tag': 'nail polish', 'date': '2021-04-18', 'username': 'Riko@お仕事募集中', 'imageId': '89176259'}, {'tag': 'creation', 'date': '2021-04-18', 'username': 'Riko@お仕事募集中', 'imageId': '89176259'}, {'tag': 'Hazbin Hotel', 'date': '2021-04-18', 'username': '河CY', 'imageId': '89208434'}, {'tag': 'Alastor/Charlie', 'date': '2021-04-18', 'username': '河CY', 'imageId': '89208434'}, {'tag': 'Alastor', 'date': '2021-04-18', 'username': '河CY', 'imageId': '89208434'}, {'tag': 'arasuta-', 'date': '2021-04-18', 'username': '河CY', 'imageId': '89208434'}, {'tag': 'Charley', 'date': '2021-04-18', 'username': '河CY', 'imageId': '89208434'}, {'tag': 'demon girl', 'date': '2021-04-18', 'username': '河CY', 'imageId': '89208434'}, {'tag': 'maizono sayaka', 'date': '2021-04-18', 'username': 'TOKKYU', 'imageId': '89174539'}, {'tag': 'dangan ronpa', 'date': '2021-04-18', 'username': 'TOKKYU', 'imageId': '89174539'}, {'tag': 'sailor uniform', 'date': '2021-04-18', 'username': 'TOKKYU', 'imageId': '89174539'}, {'tag': 'Danganronpa 5000+ bookmarks', 'date': '2021-04-18', 'username': 'TOKKYU', 'imageId': '89174539'}, {'tag': 'Fate/GrandOrder', 'date': '2021-04-18', 'username': '色素', 'imageId': '89189302'}, {'tag': 'FGO', 'date': '2021-04-18', 'username': '色素', 'imageId': '89189302'}, {'tag': 'Sherlock Holmes (Fate)', 'date': '2021-04-18', 'username': '色素', 'imageId': '89189302'}, {'tag': 'Ashiya Douman (Fate)', 'date': '2021-04-18', 'username': '色素', 'imageId': '89189302'}, {'tag': 'Caster Limbo', 'date': '2021-04-18', 'username': '色素', 'imageId': '89189302'}, {'tag': 'Caren C Hortensia', 'date': '2021-04-18', 'username': '色素', 'imageId': '89189302'}, {'tag': 'Voyager (Fate)', 'date': '2021-04-18', 'username': '色素', 'imageId': '89189302'}, {'tag': 'Kama (Fate)', 'date': '2021-04-18', 'username': '色素', 'imageId': '89189302'}, {'tag': 'Fate/GO 1000+ bookmarks', 'date': '2021-04-18', 'username': '色素', 'imageId': '89189302'}, {'tag': 'Watanabe no Tsuna (Fate)', 'date': '2021-04-18', 'username': '色素', 'imageId': '89189302'}, {'tag': 'Mito Tsukino', 'date': '2021-04-18', 'username': '河合朗🎀短編集発売中', 'imageId': '89187093'}, {'tag': 'Nijisanji', 'date': '2021-04-18', 'username': '河合朗🎀短編集発売中', 'imageId': '89187093'}, {'tag': '地雷系', 'date': '2021-04-18', 'username': '河合朗🎀短編集発売中', 'imageId': '89187093'}, {'tag': 'Virtual Youtuber', 'date': '2021-04-18', 'username': '河合朗🎀短編集発売中', 'imageId': '89187093'}, {'tag': 'Virtual YouTuber 1000+ bookmarks', 'date': '2021-04-18', 'username': '河合朗🎀短編集発売中', 'imageId': '89187093'}, {'tag': 'ジャンクモール', 'date': '2021-04-18', 'username': '寺田てら', 'imageId': '89175308'}, {'tag': 'Nijisanji', 'date': '2021-04-18', 'username': 'そふら', 'imageId': '89208746'}, {'tag': 'original', 'date': '2021-04-18', 'username': 'az./万丈梓', 'imageId': '89181613'}, {'tag': '恋する(おとめ)の作り方', 'date': '2021-04-18', 'username': 'az./万丈梓', 'imageId': '89181613'}, {'tag': 'otokonoko', 'date': '2021-04-18', 'username': 'az./万丈梓', 'imageId': '89181613'}, {'tag': 'announcement', 'date': '2021-04-18', 'username': 'az./万丈梓', 'imageId': '89181613'}, {'tag': 'Is the Order a Rabbit?', 'date': '2021-04-18', 'username': 'KS', 'imageId': '89181721'}, {'tag': 'Cocoa', 'date': '2021-04-18', 'username': 'KS', 'imageId': '89181721'}, {'tag': 'Cocoa Hoto', 'date': '2021-04-18', 'username': 'KS', 'imageId': '89181721'}, {'tag': 'becoming an adult', 'date': '2021-04-18', 'username': 'KS', 'imageId': '89181721'}, {'tag': 'adult Cocoa', 'date': '2021-04-18', 'username': 'KS', 'imageId': '89181721'}, {'tag': 'Is the Order a Rabbit? 1000+ bookmarks', 'date': '2021-04-18', 'username': 'KS', 'imageId': '89181721'}, {'tag': '小動物が二匹?!', 'date': '2021-04-18', 'username': 'KS', 'imageId': '89181721'}, {'tag': 'Uma Musume Pretty Derby', 'date': '2021-04-18', 'username': 'かわやばぐ', 'imageId': '89188638'}, {'tag': 'agunesutakionn', 'date': '2021-04-18', 'username': 'かわやばぐ', 'imageId': '89188638'}, {'tag': 'mannhattannkafe', 'date': '2021-04-18', 'username': 'かわやばぐ', 'imageId': '89188638'}, {'tag': 'タキカフェ', 'date': '2021-04-18', 'username': 'かわやばぐ', 'imageId': '89188638'}, {'tag': 'aogebatoutoshi', 'date': '2021-04-18', 'username': 'かわやばぐ', 'imageId': '89188638'}, {'tag': '我が死の恩', 'date': '2021-04-18', 'username': 'かわやばぐ', 'imageId': '89188638'}, {'tag': 'umaamusumepurithi-da-bi-sennyu-za-iri', 'date': '2021-04-18', 'username': 'かわやばぐ', 'imageId': '89188638'}, {'tag': 'yuri', 'date': '2021-04-18', 'username': 'かわやばぐ', 'imageId': '89188638'}, {'tag': 'Nijisanji', 'date': '2021-04-18', 'username': 'たるにる', 'imageId': '89194280'}, {'tag': 'Virtual Youtuber', 'date': '2021-04-18', 'username': 'たるにる', 'imageId': '89194280'}, {'tag': 'Lize Helesta', 'date': '2021-04-18', 'username': 'たるにる', 'imageId': '89194280'}, {'tag': 'Ange Katrina', 'date': '2021-04-18', 'username': 'たるにる', 'imageId': '89194280'}, {'tag': 'Toko Inui', 'date': '2021-04-18', 'username': 'たるにる', 'imageId': '89194280'}, {'tag': 'さんばか', 'date': '2021-04-18', 'username': 'たるにる', 'imageId': '89194280'}, {'tag': 'Virtual YouTuber 1000+ bookmarks', 'date': '2021-04-18', 'username': 'たるにる', 'imageId': '89194280'}, {'tag': 'Princess Connect! Re:Dive', 'date': '2021-04-18', 'username': 'QuAn_', 'imageId': '89196872'}, {'tag': 'Princess Connect! Re:Dive', 'date': '2021-04-18', 'username': 'QuAn_', 'imageId': '89196872'}, {'tag': 'Hatsune (Princess Connect)', 'date': '2021-04-18', 'username': 'QuAn_', 'imageId': '89196872'}, {'tag': 'Shiori (Princess Connect)', 'date': '2021-04-18', 'username': 'QuAn_', 'imageId': '89196872'}, {'tag': 'Hatsune Kashiwazaki', 'date': '2021-04-18', 'username': 'QuAn_', 'imageId': '89196872'}, {'tag': 'Shiori Kashiwazaki', 'date': '2021-04-18', 'username': 'QuAn_', 'imageId': '89196872'}, {'tag': 'going commando', 'date': '2021-04-18', 'username': 'QuAn_', 'imageId': '89196872'}]\n"
     ]
    }
   ],
   "source": [
    "#url = \"https://www.pixiv.net/ajax/ill?lang=enust/89101579\"\n",
    "\n",
    "data = []\n",
    "\n",
    "counter = 0\n",
    "imageCounter = 0\n",
    "\n",
    "for url in links:\n",
    "\n",
    "    response = requests.get(url, headers=headers, timeout = 100)\n",
    "    jsonData = json.loads(response.text)\n",
    "\n",
    "    tags = []\n",
    "\n",
    "    for i in jsonData['body']['tags']['tags']:\n",
    "        data.append({})\n",
    "        if 'translation' not in i:\n",
    "            if 'romaji' not in i:\n",
    "                data[counter].update({'tag': i['tag']})\n",
    "            else:\n",
    "                data[counter].update({'tag': i['romaji']})\n",
    "        else:\n",
    "            data[counter].update({'tag': i['translation']['en']})\n",
    "            \n",
    "        data[counter].update({'date' : rankingDate})\n",
    "        data[counter].update({'username' : jsonData['body']['userName']})\n",
    "        data[counter].update({'imageId' : imageId[imageCounter]})\n",
    "        counter += 1\n",
    "    imageCounter += 1\n",
    "    \n",
    "\n",
    "print(data)\n"
   ]
  },
  {
   "cell_type": "code",
   "execution_count": 55,
   "id": "upset-planner",
   "metadata": {},
   "outputs": [
    {
     "name": "stdout",
     "output_type": "stream",
     "text": [
      "Insert: 89174625\n",
      "Insert: 89174625\n",
      "Insert: 89174625\n",
      "Insert: 89174625\n",
      "Insert: 89174625\n",
      "Insert: 89174625\n",
      "Insert: 89174625\n",
      "Insert: 89174625\n",
      "Insert: 89174625\n",
      "Insert: 89174625\n",
      "Insert: 89174736\n",
      "Insert: 89174736\n",
      "Insert: 89174736\n",
      "Insert: 89174736\n",
      "Insert: 89174736\n",
      "Insert: 89174736\n",
      "Insert: 89174736\n",
      "Insert: 89174736\n",
      "Insert: 89174736\n",
      "Insert: 89174736\n",
      "Insert: 89174443\n",
      "Insert: 89174443\n",
      "Insert: 89174443\n",
      "Insert: 89174443\n",
      "Insert: 89174443\n",
      "Insert: 89174443\n",
      "Insert: 89174443\n",
      "Insert: 89174443\n",
      "Insert: 89175394\n",
      "Insert: 89175394\n",
      "Insert: 89175394\n",
      "Insert: 89175393\n",
      "Insert: 89175393\n",
      "Insert: 89175393\n",
      "Insert: 89175393\n",
      "Insert: 89175393\n",
      "Insert: 89175393\n",
      "Insert: 89175393\n",
      "Insert: 89175393\n",
      "Insert: 89174996\n",
      "Insert: 89179417\n",
      "Insert: 89179417\n",
      "Insert: 89175768\n",
      "Insert: 89175768\n",
      "Insert: 89212140\n",
      "Insert: 89212140\n",
      "Insert: 89212140\n",
      "Insert: 89212140\n",
      "Insert: 89212140\n",
      "Insert: 89212140\n",
      "Insert: 89212140\n",
      "Insert: 89212140\n",
      "Insert: 89199251\n",
      "Insert: 89174589\n",
      "Insert: 89174589\n",
      "Insert: 89174589\n",
      "Insert: 89174589\n",
      "Insert: 89174589\n",
      "Insert: 89188590\n",
      "Insert: 89188590\n",
      "Insert: 89188590\n",
      "Insert: 89188590\n",
      "Insert: 89188590\n",
      "Insert: 89188590\n",
      "Insert: 89188590\n",
      "Insert: 89188590\n",
      "Insert: 89175076\n",
      "Insert: 89175076\n",
      "Insert: 89175076\n",
      "Insert: 89175076\n",
      "Insert: 89175076\n",
      "Insert: 89175076\n",
      "Insert: 89182930\n",
      "Insert: 89182930\n",
      "Insert: 89182930\n",
      "Insert: 89182930\n",
      "Insert: 89180901\n",
      "Insert: 89180901\n",
      "Insert: 89180901\n",
      "Insert: 89180901\n",
      "Insert: 89180901\n",
      "Insert: 89180901\n",
      "Insert: 89174753\n",
      "Insert: 89174753\n",
      "Insert: 89174753\n",
      "Insert: 89174753\n",
      "Insert: 89174753\n",
      "Insert: 89174753\n",
      "Insert: 89174753\n",
      "Insert: 89193934\n",
      "Insert: 89193934\n",
      "Insert: 89193934\n",
      "Insert: 89193934\n",
      "Insert: 89193934\n",
      "Insert: 89193934\n",
      "Insert: 89193718\n",
      "Insert: 89193718\n",
      "Insert: 89193718\n",
      "Insert: 89193718\n",
      "Insert: 89193718\n",
      "Insert: 89193718\n",
      "Insert: 89193718\n",
      "Insert: 89193718\n",
      "Insert: 89193718\n",
      "Insert: 89214592\n",
      "Insert: 89214592\n",
      "Insert: 89214592\n",
      "Insert: 89214592\n",
      "Insert: 89214592\n",
      "Insert: 89214592\n",
      "Insert: 89214592\n",
      "Insert: 89214592\n",
      "Insert: 89214592\n",
      "Insert: 89196432\n",
      "Insert: 89196432\n",
      "Insert: 89196432\n",
      "Insert: 89196432\n",
      "Insert: 89196432\n",
      "Insert: 89196432\n",
      "Insert: 89196432\n",
      "Insert: 89196432\n",
      "Insert: 89196432\n",
      "Insert: 89196432\n",
      "Insert: 89180735\n",
      "Insert: 89180735\n",
      "Insert: 89180735\n",
      "Insert: 89180735\n",
      "Insert: 89180735\n",
      "Insert: 89180735\n",
      "Insert: 89180735\n",
      "Insert: 89180735\n",
      "Insert: 89180735\n",
      "Insert: 89176001\n",
      "Insert: 89176001\n",
      "Insert: 89176001\n",
      "Insert: 89176001\n",
      "Insert: 89176001\n",
      "Insert: 89176001\n",
      "Insert: 89176001\n",
      "Insert: 89174795\n",
      "Insert: 89174795\n",
      "Insert: 89174795\n",
      "Insert: 89174795\n",
      "Insert: 89193657\n",
      "Insert: 89193657\n",
      "Insert: 89193657\n",
      "Insert: 89193657\n",
      "Insert: 89193657\n",
      "Insert: 89193657\n",
      "Insert: 89193709\n",
      "Insert: 89193709\n",
      "Insert: 89193709\n",
      "Insert: 89193709\n",
      "Insert: 89193709\n",
      "Insert: 89193709\n",
      "Insert: 89193709\n",
      "Insert: 89193709\n",
      "Insert: 89193709\n",
      "Insert: 89193709\n",
      "Insert: 89174458\n",
      "Insert: 89174458\n",
      "Insert: 89174458\n",
      "Insert: 89174458\n",
      "Insert: 89175645\n",
      "Insert: 89175645\n",
      "Insert: 89175645\n",
      "Insert: 89175645\n",
      "Insert: 89175645\n",
      "Insert: 89175645\n",
      "Insert: 89206593\n",
      "Insert: 89206593\n",
      "Insert: 89206593\n",
      "Insert: 89206593\n",
      "Insert: 89206593\n",
      "Insert: 89206593\n",
      "Insert: 89176259\n",
      "Insert: 89176259\n",
      "Insert: 89176259\n",
      "Insert: 89176259\n",
      "Insert: 89176259\n",
      "Insert: 89176259\n",
      "Insert: 89176259\n",
      "Insert: 89176259\n",
      "Insert: 89176259\n",
      "Insert: 89208434\n",
      "Insert: 89208434\n",
      "Insert: 89208434\n",
      "Insert: 89208434\n",
      "Insert: 89208434\n",
      "Insert: 89208434\n",
      "Insert: 89174539\n",
      "Insert: 89174539\n",
      "Insert: 89174539\n",
      "Insert: 89174539\n",
      "Insert: 89189302\n",
      "Insert: 89189302\n",
      "Insert: 89189302\n",
      "Insert: 89189302\n",
      "Insert: 89189302\n",
      "Insert: 89189302\n",
      "Insert: 89189302\n",
      "Insert: 89189302\n",
      "Insert: 89189302\n",
      "Insert: 89189302\n",
      "Insert: 89187093\n",
      "Insert: 89187093\n",
      "Insert: 89187093\n",
      "Insert: 89187093\n",
      "Insert: 89187093\n",
      "Insert: 89175308\n",
      "Insert: 89208746\n",
      "Insert: 89181613\n",
      "Insert: 89181613\n",
      "Insert: 89181613\n",
      "Insert: 89181613\n",
      "Insert: 89181721\n",
      "Insert: 89181721\n",
      "Insert: 89181721\n",
      "Insert: 89181721\n",
      "Insert: 89181721\n",
      "Insert: 89181721\n",
      "Insert: 89181721\n",
      "Insert: 89188638\n",
      "Insert: 89188638\n",
      "Insert: 89188638\n",
      "Insert: 89188638\n",
      "Insert: 89188638\n",
      "Insert: 89188638\n",
      "Insert: 89188638\n",
      "Insert: 89188638\n",
      "Insert: 89194280\n",
      "Insert: 89194280\n",
      "Insert: 89194280\n",
      "Insert: 89194280\n",
      "Insert: 89194280\n",
      "Insert: 89194280\n",
      "Insert: 89194280\n",
      "Insert: 89196872\n",
      "Insert: 89196872\n",
      "Insert: 89196872\n",
      "Insert: 89196872\n",
      "Insert: 89196872\n",
      "Insert: 89196872\n",
      "Insert: 89196872\n"
     ]
    }
   ],
   "source": [
    "cursor = collection.find({\"date\": rankingDate}, {\"imageId\", 'tag'})\n",
    "ids = []\n",
    "for document in cursor:\n",
    "    ids.append(document)\n",
    "\n",
    "for i in data:\n",
    "    if i:\n",
    "        for dbData in ids:\n",
    "            if dbData['imageId'] == i['imageId'] and dbData['tag'] == i['tag']:\n",
    "                i = {}\n",
    "                break\n",
    "        if i:\n",
    "            collection.insert_one(i)\n",
    "            print('Insert: ' + i['imageId'])\n"
   ]
  },
  {
   "cell_type": "code",
   "execution_count": 56,
   "id": "anonymous-exhaust",
   "metadata": {},
   "outputs": [
    {
     "name": "stdout",
     "output_type": "stream",
     "text": [
      "{'_id': ObjectId('607b0aae5c82710b90465f2f'), 'tag': 'original 3000+ bookmarks', 'date': '2021-04-01', 'username': 'ポ～ン（出水ぽすか）', 'imageId': '88847570'}\n",
      "--------\n",
      "{'_id': ObjectId('607b0aae5c82710b90465fab'), 'tag': 'original 3000+ bookmarks', 'date': '2021-04-01', 'username': '碧風羽 BOOTH店オープン', 'imageId': '88841115'}\n",
      "--------\n"
     ]
    }
   ],
   "source": [
    "cursor = collection.find({'tag': 'original 3000+ bookmarks'})\n",
    "ids = []\n",
    "for document in cursor:\n",
    "    ids.append(document)\n",
    "    print(document)\n",
    "    print('--------')"
   ]
  },
  {
   "cell_type": "code",
   "execution_count": 18,
   "id": "transsexual-favor",
   "metadata": {
    "scrolled": true
   },
   "outputs": [
    {
     "name": "stdout",
     "output_type": "stream",
     "text": [
      "Collection(Database(MongoClient(host=['mongo:27017'], document_class=dict, tz_aware=False, connect=True), 'local'), 'pixitag')\n"
     ]
    },
    {
     "name": "stderr",
     "output_type": "stream",
     "text": [
      "<ipython-input-18-ea60bee885b1>:1: DeprecationWarning: remove is deprecated. Use delete_one or delete_many instead.\n",
      "  collection.remove()\n"
     ]
    }
   ],
   "source": [
    "collection.remove()\n",
    "print(collection)"
   ]
  },
  {
   "cell_type": "code",
   "execution_count": 85,
   "id": "furnished-belarus",
   "metadata": {},
   "outputs": [
    {
     "name": "stdout",
     "output_type": "stream",
     "text": [
      "{'_id': 'original', 'nb': 14}\n",
      "{'_id': 'girl', 'nb': 6}\n",
      "{'_id': 'Uma Musume Pretty Derby', 'nb': 5}\n",
      "{'_id': 'Fate/GrandOrder', 'nb': 4}\n",
      "{'_id': 'FGO', 'nb': 4}\n",
      "{'_id': 'original 5000+ bookmarks', 'nb': 3}\n",
      "{'_id': 'Virtual Youtuber', 'nb': 3}\n",
      "{'_id': 'clothed breasts', 'nb': 3}\n",
      "{'_id': 'Gold Ship (UMPD)', 'nb': 3}\n",
      "{'_id': 'evangelion', 'nb': 3}\n",
      "{'_id': 'Fate/GO 1000+ bookmarks', 'nb': 3}\n",
      "{'_id': 'umaamusumepurithi-da-bi-sennyu-za-iri', 'nb': 2}\n",
      "{'_id': 'Genshin Impact', 'nb': 2}\n",
      "{'_id': 'subarashikihokkorinosekai', 'nb': 2}\n",
      "{'_id': 'Evangelion New Theatrical Release', 'nb': 2}\n",
      "{'_id': 'Evangelion 1000+ bookmarks', 'nb': 2}\n",
      "{'_id': 'evagosennyu-za-zuiri', 'nb': 2}\n",
      "{'_id': 'Shikinami Asuka Langley', 'nb': 2}\n",
      "{'_id': 'Pokémon', 'nb': 2}\n",
      "{'_id': 'Ashiya Douman (Fate)', 'nb': 2}\n",
      "{'_id': 'Nijisanji', 'nb': 2}\n",
      "{'_id': 'creation', 'nb': 2}\n",
      "{'_id': 'korekosogago-rudoshippu', 'nb': 2}\n",
      "{'_id': 'Project Sekai', 'nb': 2}\n",
      "{'_id': 'work illustration', 'nb': 2}\n",
      "{'_id': 'plugsuit', 'nb': 2}\n",
      "{'_id': 'Lumine (Genshin Impact)', 'nb': 2}\n",
      "{'_id': 'young girl', 'nb': 2}\n",
      "{'_id': 'Watanabe no Tsuna (Fate)', 'nb': 2}\n",
      "{'_id': 'alluring face', 'nb': 2}\n",
      "{'_id': 'horse girl', 'nb': 2}\n",
      "{'_id': 'neon genesis evangelion', 'nb': 2}\n",
      "{'_id': 'Virtual YouTuber 10000+ bookmarks', 'nb': 1}\n",
      "{'_id': 'oda nobunaga', 'nb': 1}\n",
      "{'_id': 'cleavage', 'nb': 1}\n",
      "{'_id': 'Homura Akemi', 'nb': 1}\n",
      "{'_id': 'jinnruipokannkeikaku', 'nb': 1}\n",
      "{'_id': 'I want to go here', 'nb': 1}\n",
      "{'_id': 'Japanese-style', 'nb': 1}\n",
      "{'_id': 'heavenly ass', 'nb': 1}\n",
      "{'_id': 'beautiful', 'nb': 1}\n",
      "{'_id': 'fuukeigosennyu-za-zuiri', 'nb': 1}\n",
      "{'_id': 'VOCALOID', 'nb': 1}\n",
      "{'_id': 'Gudako', 'nb': 1}\n",
      "{'_id': 'cynthia', 'nb': 1}\n",
      "{'_id': 'Sweets Bird', 'nb': 1}\n",
      "{'_id': 'Voyager (Fate)', 'nb': 1}\n",
      "{'_id': 'CHUNITHM', 'nb': 1}\n",
      "{'_id': 'ここに巣を作ろう', 'nb': 1}\n",
      "{'_id': 'hageshikudoui', 'nb': 1}\n",
      "{'_id': 'Marnie (Pokemon trainer)', 'nb': 1}\n",
      "{'_id': 'illustration', 'nb': 1}\n",
      "{'_id': 'Sherlock Holmes (Fate)', 'nb': 1}\n",
      "{'_id': 'shirokumasann', 'nb': 1}\n",
      "{'_id': 'muru', 'nb': 1}\n",
      "{'_id': 'hatsune miku', 'nb': 1}\n",
      "{'_id': 'Fate/GO 5000+ bookmarks', 'nb': 1}\n",
      "{'_id': 'short haircut', 'nb': 1}\n",
      "{'_id': 'VTuber', 'nb': 1}\n",
      "{'_id': 'Toxtricity', 'nb': 1}\n",
      "{'_id': '誰も消防車を呼ばないのである!', 'nb': 1}\n",
      "{'_id': 'human characters in Pokémon', 'nb': 1}\n",
      "{'_id': 'announcement', 'nb': 1}\n",
      "{'_id': 'sailor uniform', 'nb': 1}\n",
      "{'_id': 'ronnguayanami', 'nb': 1}\n",
      "{'_id': 'Nobunaga Oda (Fate)', 'nb': 1}\n",
      "{'_id': 'NL周回目', 'nb': 1}\n",
      "{'_id': 'Daiwa Scarlet (UMPD)', 'nb': 1}\n",
      "{'_id': 'Demon Slayer: Kimetsu no Yaiba', 'nb': 1}\n",
      "{'_id': 'ODDS&ENDS', 'nb': 1}\n",
      "{'_id': 'madao', 'nb': 1}\n",
      "{'_id': 'Edmond Dantes (Fate)', 'nb': 1}\n",
      "{'_id': 'Kama (Fate)', 'nb': 1}\n",
      "{'_id': 'purosekahyakuyu-za-zuiri', 'nb': 1}\n",
      "{'_id': 'against glass', 'nb': 1}\n",
      "{'_id': 'o-enn', 'nb': 1}\n",
      "{'_id': 'Minato Aqua', 'nb': 1}\n",
      "{'_id': 'cola exists', 'nb': 1}\n",
      "{'_id': '1', 'nb': 1}\n",
      "{'_id': 'evanngerionnbatoruirakonn', 'nb': 1}\n",
      "{'_id': 'Shinobu Kochou', 'nb': 1}\n",
      "{'_id': 'Hololive', 'nb': 1}\n",
      "{'_id': 'Mito Tsukino', 'nb': 1}\n",
      "{'_id': 'Kasumi Miwa', 'nb': 1}\n",
      "{'_id': '絵守未來Project', 'nb': 1}\n",
      "{'_id': '卵かけごはん', 'nb': 1}\n",
      "{'_id': 'あられーとり', 'nb': 1}\n",
      "{'_id': 'クマディアン', 'nb': 1}\n",
      "{'_id': 'purosekasennyu-za-zuiri', 'nb': 1}\n",
      "{'_id': 'Kuzuha (Nijisanji Gamers)', 'nb': 1}\n",
      "{'_id': 'Bea', 'nb': 1}\n",
      "{'_id': 'hands-on-hips', 'nb': 1}\n",
      "{'_id': 'armpits', 'nb': 1}\n",
      "{'_id': '｢みーつけた!｣', 'nb': 1}\n",
      "{'_id': '幸せの小鳥', 'nb': 1}\n",
      "{'_id': 'gloves', 'nb': 1}\n",
      "{'_id': 'abekobewakusei', 'nb': 1}\n",
      "{'_id': 'scenery', 'nb': 1}\n",
      "{'_id': 'OL', 'nb': 1}\n",
      "{'_id': 'Minato Aqua fanart', 'nb': 1}\n",
      "{'_id': 'seibetsushinnji', 'nb': 1}\n",
      "{'_id': '25-ji, Night Code de.', 'nb': 1}\n",
      "{'_id': 'Anastasia Nikolaevna Romanova (Fate)', 'nb': 1}\n",
      "{'_id': 'fox ears', 'nb': 1}\n",
      "{'_id': 'large breasts', 'nb': 1}\n",
      "{'_id': 'gorumaku', 'nb': 1}\n",
      "{'_id': 'Padparadscha', 'nb': 1}\n",
      "{'_id': 'siren', 'nb': 1}\n",
      "{'_id': 'high school girl', 'nb': 1}\n",
      "{'_id': 'witch', 'nb': 1}\n",
      "{'_id': '「やあ」', 'nb': 1}\n",
      "{'_id': 'casual clothes', 'nb': 1}\n",
      "{'_id': 'Hilda (Trainer)', 'nb': 1}\n",
      "{'_id': 'crossover 1000+ bookmarks', 'nb': 1}\n",
      "{'_id': 'korehaiihatsune', 'nb': 1}\n",
      "{'_id': 'Gold Ship', 'nb': 1}\n",
      "{'_id': 'Hilarious last', 'nb': 1}\n",
      "{'_id': 'otokonoko', 'nb': 1}\n",
      "{'_id': 'souji okita', 'nb': 1}\n",
      "{'_id': 'Miku must be an angel', 'nb': 1}\n",
      "{'_id': 'Saito Hajime (Fate)', 'nb': 1}\n",
      "{'_id': 'food', 'nb': 1}\n",
      "{'_id': 'first-rate breasts', 'nb': 1}\n",
      "{'_id': 'Mejiro McQueen (UMPD)', 'nb': 1}\n",
      "{'_id': 'boob tent', 'nb': 1}\n",
      "{'_id': 'foam', 'nb': 1}\n",
      "{'_id': '恋する(おとめ)の作り方', 'nb': 1}\n",
      "{'_id': 'あられーとりを探せ!', 'nb': 1}\n",
      "{'_id': 'Chiya', 'nb': 1}\n",
      "{'_id': 'Jujutsu Kaisen 5000+ bookmarks', 'nb': 1}\n",
      "{'_id': 'Promise of Wizard', 'nb': 1}\n",
      "{'_id': 'eva', 'nb': 1}\n",
      "{'_id': 'refined taste', 'nb': 1}\n",
      "{'_id': 'copyright', 'nb': 1}\n",
      "{'_id': 'mihorai', 'nb': 1}\n",
      "{'_id': '「似合う?」', 'nb': 1}\n",
      "{'_id': 'すいんぐ!!', 'nb': 1}\n",
      "{'_id': 'Caster Limbo', 'nb': 1}\n",
      "{'_id': '地雷系', 'nb': 1}\n",
      "{'_id': 'original works', 'nb': 1}\n",
      "{'_id': 'Pokémon 10000+ bookmarks', 'nb': 1}\n",
      "{'_id': 'original 7,500+ bookmarks', 'nb': 1}\n",
      "{'_id': 'moukoregahonnpenndeiiyo', 'nb': 1}\n",
      "{'_id': 'big butt', 'nb': 1}\n",
      "{'_id': 'yakizakana', 'nb': 1}\n",
      "{'_id': '可愛すぎるふぉーまる', 'nb': 1}\n",
      "{'_id': 'breasts', 'nb': 1}\n",
      "{'_id': 'まふえむ', 'nb': 1}\n",
      "{'_id': 'bellybutton', 'nb': 1}\n",
      "{'_id': 'high boots', 'nb': 1}\n",
      "{'_id': 'sakura', 'nb': 1}\n",
      "{'_id': 'hoping for a sequel', 'nb': 1}\n",
      "{'_id': 'gothic', 'nb': 1}\n",
      "{'_id': 'Mihono Bourbon (Uma Musume)', 'nb': 1}\n",
      "{'_id': 'くまっぷりん', 'nb': 1}\n",
      "{'_id': 'cherry blossoms', 'nb': 1}\n",
      "{'_id': 'Mizuki/Ena', 'nb': 1}\n",
      "{'_id': 'Nessa', 'nb': 1}\n",
      "{'_id': 'manga', 'nb': 1}\n",
      "{'_id': \"Yamcha'd\", 'nb': 1}\n",
      "{'_id': 'matou sakura', 'nb': 1}\n",
      "{'_id': 'Demon Slayer: Kimetsu no Yaiba 1000+ bookmarks', 'nb': 1}\n",
      "{'_id': 'チャップリーーン', 'nb': 1}\n",
      "{'_id': 'Genshin Impact 1000+ bookmarks', 'nb': 1}\n",
      "{'_id': 'half-up hairstyle', 'nb': 1}\n",
      "{'_id': 'umamusumepurithi-da-bi-ichimannyu-za-iri', 'nb': 1}\n",
      "{'_id': 'Caren C Hortensia', 'nb': 1}\n",
      "{'_id': 'ど〜こだ?', 'nb': 1}\n",
      "{'_id': 'ibu', 'nb': 1}\n",
      "{'_id': 'umamusumenoraisushawa-', 'nb': 1}\n",
      "{'_id': 'boob gap', 'nb': 1}\n",
      "{'_id': 'gorushi', 'nb': 1}\n",
      "{'_id': 'rei ayanami', 'nb': 1}\n",
      "{'_id': 'Vocaloid 10000+ bookmarks', 'nb': 1}\n",
      "{'_id': 'Jujutsu Kaisen', 'nb': 1}\n",
      "{'_id': 'knife', 'nb': 1}\n",
      "{'_id': 'pencil skirt', 'nb': 1}\n",
      "{'_id': 'ジャンクモール', 'nb': 1}\n",
      "{'_id': 'しろくまさん(フォーマルver.)', 'nb': 1}\n"
     ]
    }
   ],
   "source": [
    "#Get most popular tag by date\n",
    "cursor = collection.aggregate([\n",
    "    {\"$match\": {'date': '2021-04-17'}},\n",
    "    {'$group': {\n",
    "        '_id': '$tag',\n",
    "        'nb': {'$sum': 1}\n",
    "    }},\n",
    "    {'$sort': {'nb': -1}}\n",
    "])\n",
    "for document in cursor:\n",
    "    ids.append(document)\n",
    "    print(document)"
   ]
  },
  {
   "cell_type": "code",
   "execution_count": 47,
   "id": "greater-enlargement",
   "metadata": {},
   "outputs": [],
   "source": [
    "#Get images number per illustrator in ranking\n",
    "cursor = collection.aggregate([\n",
    "    #{\"$match\": {'date': '2021-04-17'}},\n",
    "    {'$group': {\n",
    "        '_id': {'username': '$username'},\n",
    "        'images': {'$addToSet': '$imageId'}\n",
    "    }},\n",
    "    {'$project': {'nb': {'$size': '$images'}}},\n",
    "    {'$sort': {'nb': -1}}\n",
    "])\n",
    "graphData = {'username': [], 'nb': []}\n",
    "for document in cursor:\n",
    "    #graphData.update({document['_id']['username']: [document['nb']]})\n",
    "    graphData['username'].append(document['_id']['username'])\n",
    "    graphData['nb'].append(document['nb'])\n",
    "    #print(document)\n",
    "#print(graphData)"
   ]
  },
  {
   "cell_type": "code",
   "execution_count": 48,
   "id": "violent-baker",
   "metadata": {
    "scrolled": true
   },
   "outputs": [
    {
     "data": {
      "application/vnd.plotly.v1+json": {
       "config": {
        "plotlyServerURL": "https://plot.ly"
       },
       "data": [
        {
         "marker": {
          "color": "rgb(158,202,225)",
          "line": {
           "color": "rgb(8,48,107)",
           "width": 1.5
          }
         },
         "opacity": 0.6,
         "type": "bar",
         "x": [
          "チャイ",
          "ポ～ン（出水ぽすか）",
          "スコッティ",
          "TOKKYU",
          "寺田てら",
          "EB十",
          "AU",
          "sakimichan",
          "村カルキ",
          "かわやばぐ",
          "上山道郎",
          "ぽむ",
          "Saclia",
          "据え置き",
          "にもし🌞",
          "猫屋敷ぷしお",
          "Nine",
          "Kaneni",
          "㈲もぺ",
          "TanDo",
          "torino",
          "ジェット虚無僧",
          "きの",
          "あるてら",
          "室埴 ポコ",
          "河合朗🎀短編集発売中",
          "佐倉おりこ@単行本発売中",
          "rioka",
          "白滝",
          "ガしガし",
          "花ヶ田 / hanagata",
          "山吹色",
          "九十九",
          "oekakizuki",
          "旧都なぎ",
          "Aoi Ogata",
          "富士茄 鷹",
          "hg6",
          "ケイケイ・T",
          "海島千本",
          "Jia Ma",
          "逢編いあむ",
          "ミミス",
          "あんのあーの",
          "純白可憐",
          "おゆゆ",
          "茶ごま",
          "サメヤマ次郎",
          "うさもち。",
          "ショットガンマン",
          "孟達",
          "ロイスト",
          "梦夏shimmer",
          "河CY",
          "コーラ",
          "ポテトルス",
          "Rosuuri",
          "レドル",
          "ハラダミユキ",
          "Nengoro(ネんごろぅ)",
          "おむたつ/omutatsu",
          "かれい",
          "色素",
          "我美蘭☆FGOAC概念礼装",
          "SWAV",
          "さかいワカ🌎お仕事募集中",
          "きさらぎゆり",
          "xiwa",
          "しぐれうい",
          "トーコ",
          "色谷あすか",
          "HARURI / 仕事募集中",
          "Lunacle @お仕事募集中",
          "az./万丈梓",
          "遠坂あさぎ",
          "*zoff",
          "碧風羽 BOOTH店オープン",
          "ナコモ",
          "ArseniXC",
          "Lpip",
          "旳---",
          "千夜QYS3",
          "まふゆ",
          "lack",
          "ケースワベ【K-SUWABE】",
          "sena",
          "Nardack"
         ],
         "y": [
          5,
          5,
          3,
          3,
          3,
          2,
          2,
          2,
          2,
          2,
          2,
          2,
          2,
          1,
          1,
          1,
          1,
          1,
          1,
          1,
          1,
          1,
          1,
          1,
          1,
          1,
          1,
          1,
          1,
          1,
          1,
          1,
          1,
          1,
          1,
          1,
          1,
          1,
          1,
          1,
          1,
          1,
          1,
          1,
          1,
          1,
          1,
          1,
          1,
          1,
          1,
          1,
          1,
          1,
          1,
          1,
          1,
          1,
          1,
          1,
          1,
          1,
          1,
          1,
          1,
          1,
          1,
          1,
          1,
          1,
          1,
          1,
          1,
          1,
          1,
          1,
          1,
          1,
          1,
          1,
          1,
          1,
          1,
          1,
          1,
          1,
          1
         ]
        }
       ],
       "layout": {
        "template": {
         "data": {
          "bar": [
           {
            "error_x": {
             "color": "#2a3f5f"
            },
            "error_y": {
             "color": "#2a3f5f"
            },
            "marker": {
             "line": {
              "color": "#E5ECF6",
              "width": 0.5
             }
            },
            "type": "bar"
           }
          ],
          "barpolar": [
           {
            "marker": {
             "line": {
              "color": "#E5ECF6",
              "width": 0.5
             }
            },
            "type": "barpolar"
           }
          ],
          "carpet": [
           {
            "aaxis": {
             "endlinecolor": "#2a3f5f",
             "gridcolor": "white",
             "linecolor": "white",
             "minorgridcolor": "white",
             "startlinecolor": "#2a3f5f"
            },
            "baxis": {
             "endlinecolor": "#2a3f5f",
             "gridcolor": "white",
             "linecolor": "white",
             "minorgridcolor": "white",
             "startlinecolor": "#2a3f5f"
            },
            "type": "carpet"
           }
          ],
          "choropleth": [
           {
            "colorbar": {
             "outlinewidth": 0,
             "ticks": ""
            },
            "type": "choropleth"
           }
          ],
          "contour": [
           {
            "colorbar": {
             "outlinewidth": 0,
             "ticks": ""
            },
            "colorscale": [
             [
              0,
              "#0d0887"
             ],
             [
              0.1111111111111111,
              "#46039f"
             ],
             [
              0.2222222222222222,
              "#7201a8"
             ],
             [
              0.3333333333333333,
              "#9c179e"
             ],
             [
              0.4444444444444444,
              "#bd3786"
             ],
             [
              0.5555555555555556,
              "#d8576b"
             ],
             [
              0.6666666666666666,
              "#ed7953"
             ],
             [
              0.7777777777777778,
              "#fb9f3a"
             ],
             [
              0.8888888888888888,
              "#fdca26"
             ],
             [
              1,
              "#f0f921"
             ]
            ],
            "type": "contour"
           }
          ],
          "contourcarpet": [
           {
            "colorbar": {
             "outlinewidth": 0,
             "ticks": ""
            },
            "type": "contourcarpet"
           }
          ],
          "heatmap": [
           {
            "colorbar": {
             "outlinewidth": 0,
             "ticks": ""
            },
            "colorscale": [
             [
              0,
              "#0d0887"
             ],
             [
              0.1111111111111111,
              "#46039f"
             ],
             [
              0.2222222222222222,
              "#7201a8"
             ],
             [
              0.3333333333333333,
              "#9c179e"
             ],
             [
              0.4444444444444444,
              "#bd3786"
             ],
             [
              0.5555555555555556,
              "#d8576b"
             ],
             [
              0.6666666666666666,
              "#ed7953"
             ],
             [
              0.7777777777777778,
              "#fb9f3a"
             ],
             [
              0.8888888888888888,
              "#fdca26"
             ],
             [
              1,
              "#f0f921"
             ]
            ],
            "type": "heatmap"
           }
          ],
          "heatmapgl": [
           {
            "colorbar": {
             "outlinewidth": 0,
             "ticks": ""
            },
            "colorscale": [
             [
              0,
              "#0d0887"
             ],
             [
              0.1111111111111111,
              "#46039f"
             ],
             [
              0.2222222222222222,
              "#7201a8"
             ],
             [
              0.3333333333333333,
              "#9c179e"
             ],
             [
              0.4444444444444444,
              "#bd3786"
             ],
             [
              0.5555555555555556,
              "#d8576b"
             ],
             [
              0.6666666666666666,
              "#ed7953"
             ],
             [
              0.7777777777777778,
              "#fb9f3a"
             ],
             [
              0.8888888888888888,
              "#fdca26"
             ],
             [
              1,
              "#f0f921"
             ]
            ],
            "type": "heatmapgl"
           }
          ],
          "histogram": [
           {
            "marker": {
             "colorbar": {
              "outlinewidth": 0,
              "ticks": ""
             }
            },
            "type": "histogram"
           }
          ],
          "histogram2d": [
           {
            "colorbar": {
             "outlinewidth": 0,
             "ticks": ""
            },
            "colorscale": [
             [
              0,
              "#0d0887"
             ],
             [
              0.1111111111111111,
              "#46039f"
             ],
             [
              0.2222222222222222,
              "#7201a8"
             ],
             [
              0.3333333333333333,
              "#9c179e"
             ],
             [
              0.4444444444444444,
              "#bd3786"
             ],
             [
              0.5555555555555556,
              "#d8576b"
             ],
             [
              0.6666666666666666,
              "#ed7953"
             ],
             [
              0.7777777777777778,
              "#fb9f3a"
             ],
             [
              0.8888888888888888,
              "#fdca26"
             ],
             [
              1,
              "#f0f921"
             ]
            ],
            "type": "histogram2d"
           }
          ],
          "histogram2dcontour": [
           {
            "colorbar": {
             "outlinewidth": 0,
             "ticks": ""
            },
            "colorscale": [
             [
              0,
              "#0d0887"
             ],
             [
              0.1111111111111111,
              "#46039f"
             ],
             [
              0.2222222222222222,
              "#7201a8"
             ],
             [
              0.3333333333333333,
              "#9c179e"
             ],
             [
              0.4444444444444444,
              "#bd3786"
             ],
             [
              0.5555555555555556,
              "#d8576b"
             ],
             [
              0.6666666666666666,
              "#ed7953"
             ],
             [
              0.7777777777777778,
              "#fb9f3a"
             ],
             [
              0.8888888888888888,
              "#fdca26"
             ],
             [
              1,
              "#f0f921"
             ]
            ],
            "type": "histogram2dcontour"
           }
          ],
          "mesh3d": [
           {
            "colorbar": {
             "outlinewidth": 0,
             "ticks": ""
            },
            "type": "mesh3d"
           }
          ],
          "parcoords": [
           {
            "line": {
             "colorbar": {
              "outlinewidth": 0,
              "ticks": ""
             }
            },
            "type": "parcoords"
           }
          ],
          "pie": [
           {
            "automargin": true,
            "type": "pie"
           }
          ],
          "scatter": [
           {
            "marker": {
             "colorbar": {
              "outlinewidth": 0,
              "ticks": ""
             }
            },
            "type": "scatter"
           }
          ],
          "scatter3d": [
           {
            "line": {
             "colorbar": {
              "outlinewidth": 0,
              "ticks": ""
             }
            },
            "marker": {
             "colorbar": {
              "outlinewidth": 0,
              "ticks": ""
             }
            },
            "type": "scatter3d"
           }
          ],
          "scattercarpet": [
           {
            "marker": {
             "colorbar": {
              "outlinewidth": 0,
              "ticks": ""
             }
            },
            "type": "scattercarpet"
           }
          ],
          "scattergeo": [
           {
            "marker": {
             "colorbar": {
              "outlinewidth": 0,
              "ticks": ""
             }
            },
            "type": "scattergeo"
           }
          ],
          "scattergl": [
           {
            "marker": {
             "colorbar": {
              "outlinewidth": 0,
              "ticks": ""
             }
            },
            "type": "scattergl"
           }
          ],
          "scattermapbox": [
           {
            "marker": {
             "colorbar": {
              "outlinewidth": 0,
              "ticks": ""
             }
            },
            "type": "scattermapbox"
           }
          ],
          "scatterpolar": [
           {
            "marker": {
             "colorbar": {
              "outlinewidth": 0,
              "ticks": ""
             }
            },
            "type": "scatterpolar"
           }
          ],
          "scatterpolargl": [
           {
            "marker": {
             "colorbar": {
              "outlinewidth": 0,
              "ticks": ""
             }
            },
            "type": "scatterpolargl"
           }
          ],
          "scatterternary": [
           {
            "marker": {
             "colorbar": {
              "outlinewidth": 0,
              "ticks": ""
             }
            },
            "type": "scatterternary"
           }
          ],
          "surface": [
           {
            "colorbar": {
             "outlinewidth": 0,
             "ticks": ""
            },
            "colorscale": [
             [
              0,
              "#0d0887"
             ],
             [
              0.1111111111111111,
              "#46039f"
             ],
             [
              0.2222222222222222,
              "#7201a8"
             ],
             [
              0.3333333333333333,
              "#9c179e"
             ],
             [
              0.4444444444444444,
              "#bd3786"
             ],
             [
              0.5555555555555556,
              "#d8576b"
             ],
             [
              0.6666666666666666,
              "#ed7953"
             ],
             [
              0.7777777777777778,
              "#fb9f3a"
             ],
             [
              0.8888888888888888,
              "#fdca26"
             ],
             [
              1,
              "#f0f921"
             ]
            ],
            "type": "surface"
           }
          ],
          "table": [
           {
            "cells": {
             "fill": {
              "color": "#EBF0F8"
             },
             "line": {
              "color": "white"
             }
            },
            "header": {
             "fill": {
              "color": "#C8D4E3"
             },
             "line": {
              "color": "white"
             }
            },
            "type": "table"
           }
          ]
         },
         "layout": {
          "annotationdefaults": {
           "arrowcolor": "#2a3f5f",
           "arrowhead": 0,
           "arrowwidth": 1
          },
          "autotypenumbers": "strict",
          "coloraxis": {
           "colorbar": {
            "outlinewidth": 0,
            "ticks": ""
           }
          },
          "colorscale": {
           "diverging": [
            [
             0,
             "#8e0152"
            ],
            [
             0.1,
             "#c51b7d"
            ],
            [
             0.2,
             "#de77ae"
            ],
            [
             0.3,
             "#f1b6da"
            ],
            [
             0.4,
             "#fde0ef"
            ],
            [
             0.5,
             "#f7f7f7"
            ],
            [
             0.6,
             "#e6f5d0"
            ],
            [
             0.7,
             "#b8e186"
            ],
            [
             0.8,
             "#7fbc41"
            ],
            [
             0.9,
             "#4d9221"
            ],
            [
             1,
             "#276419"
            ]
           ],
           "sequential": [
            [
             0,
             "#0d0887"
            ],
            [
             0.1111111111111111,
             "#46039f"
            ],
            [
             0.2222222222222222,
             "#7201a8"
            ],
            [
             0.3333333333333333,
             "#9c179e"
            ],
            [
             0.4444444444444444,
             "#bd3786"
            ],
            [
             0.5555555555555556,
             "#d8576b"
            ],
            [
             0.6666666666666666,
             "#ed7953"
            ],
            [
             0.7777777777777778,
             "#fb9f3a"
            ],
            [
             0.8888888888888888,
             "#fdca26"
            ],
            [
             1,
             "#f0f921"
            ]
           ],
           "sequentialminus": [
            [
             0,
             "#0d0887"
            ],
            [
             0.1111111111111111,
             "#46039f"
            ],
            [
             0.2222222222222222,
             "#7201a8"
            ],
            [
             0.3333333333333333,
             "#9c179e"
            ],
            [
             0.4444444444444444,
             "#bd3786"
            ],
            [
             0.5555555555555556,
             "#d8576b"
            ],
            [
             0.6666666666666666,
             "#ed7953"
            ],
            [
             0.7777777777777778,
             "#fb9f3a"
            ],
            [
             0.8888888888888888,
             "#fdca26"
            ],
            [
             1,
             "#f0f921"
            ]
           ]
          },
          "colorway": [
           "#636efa",
           "#EF553B",
           "#00cc96",
           "#ab63fa",
           "#FFA15A",
           "#19d3f3",
           "#FF6692",
           "#B6E880",
           "#FF97FF",
           "#FECB52"
          ],
          "font": {
           "color": "#2a3f5f"
          },
          "geo": {
           "bgcolor": "white",
           "lakecolor": "white",
           "landcolor": "#E5ECF6",
           "showlakes": true,
           "showland": true,
           "subunitcolor": "white"
          },
          "hoverlabel": {
           "align": "left"
          },
          "hovermode": "closest",
          "mapbox": {
           "style": "light"
          },
          "paper_bgcolor": "white",
          "plot_bgcolor": "#E5ECF6",
          "polar": {
           "angularaxis": {
            "gridcolor": "white",
            "linecolor": "white",
            "ticks": ""
           },
           "bgcolor": "#E5ECF6",
           "radialaxis": {
            "gridcolor": "white",
            "linecolor": "white",
            "ticks": ""
           }
          },
          "scene": {
           "xaxis": {
            "backgroundcolor": "#E5ECF6",
            "gridcolor": "white",
            "gridwidth": 2,
            "linecolor": "white",
            "showbackground": true,
            "ticks": "",
            "zerolinecolor": "white"
           },
           "yaxis": {
            "backgroundcolor": "#E5ECF6",
            "gridcolor": "white",
            "gridwidth": 2,
            "linecolor": "white",
            "showbackground": true,
            "ticks": "",
            "zerolinecolor": "white"
           },
           "zaxis": {
            "backgroundcolor": "#E5ECF6",
            "gridcolor": "white",
            "gridwidth": 2,
            "linecolor": "white",
            "showbackground": true,
            "ticks": "",
            "zerolinecolor": "white"
           }
          },
          "shapedefaults": {
           "line": {
            "color": "#2a3f5f"
           }
          },
          "ternary": {
           "aaxis": {
            "gridcolor": "white",
            "linecolor": "white",
            "ticks": ""
           },
           "baxis": {
            "gridcolor": "white",
            "linecolor": "white",
            "ticks": ""
           },
           "bgcolor": "#E5ECF6",
           "caxis": {
            "gridcolor": "white",
            "linecolor": "white",
            "ticks": ""
           }
          },
          "title": {
           "x": 0.05
          },
          "xaxis": {
           "automargin": true,
           "gridcolor": "white",
           "linecolor": "white",
           "ticks": "",
           "title": {
            "standoff": 15
           },
           "zerolinecolor": "white",
           "zerolinewidth": 2
          },
          "yaxis": {
           "automargin": true,
           "gridcolor": "white",
           "linecolor": "white",
           "ticks": "",
           "title": {
            "standoff": 15
           },
           "zerolinecolor": "white",
           "zerolinewidth": 2
          }
         }
        },
        "title": {
         "text": "Image number per illustrator in ranking"
        }
       }
      },
      "text/html": [
       "<div>                            <div id=\"a9d2d40a-26de-4ff0-aaad-bd408fb61ebb\" class=\"plotly-graph-div\" style=\"height:525px; width:100%;\"></div>            <script type=\"text/javascript\">                require([\"plotly\"], function(Plotly) {                    window.PLOTLYENV=window.PLOTLYENV || {};                                    if (document.getElementById(\"a9d2d40a-26de-4ff0-aaad-bd408fb61ebb\")) {                    Plotly.newPlot(                        \"a9d2d40a-26de-4ff0-aaad-bd408fb61ebb\",                        [{\"marker\": {\"color\": \"rgb(158,202,225)\", \"line\": {\"color\": \"rgb(8,48,107)\", \"width\": 1.5}}, \"opacity\": 0.6, \"type\": \"bar\", \"x\": [\"\\u30c1\\u30e3\\u30a4\", \"\\u30dd\\uff5e\\u30f3\\uff08\\u51fa\\u6c34\\u307d\\u3059\\u304b\\uff09\", \"\\u30b9\\u30b3\\u30c3\\u30c6\\u30a3\", \"TOKKYU\", \"\\u5bfa\\u7530\\u3066\\u3089\", \"EB\\u5341\", \"AU\", \"sakimichan\", \"\\u6751\\u30ab\\u30eb\\u30ad\", \"\\u304b\\u308f\\u3084\\u3070\\u3050\", \"\\u4e0a\\u5c71\\u9053\\u90ce\", \"\\u307d\\u3080\", \"Saclia\", \"\\u636e\\u3048\\u7f6e\\u304d\", \"\\u306b\\u3082\\u3057\\ud83c\\udf1e\", \"\\u732b\\u5c4b\\u6577\\u3077\\u3057\\u304a\", \"Nine\", \"Kaneni\", \"\\u3232\\u3082\\u307a\", \"TanDo\", \"torino\", \"\\u30b8\\u30a7\\u30c3\\u30c8\\u865a\\u7121\\u50e7\", \"\\u304d\\u306e\", \"\\u3042\\u308b\\u3066\\u3089\", \"\\u5ba4\\u57f4 \\u30dd\\u30b3\", \"\\u6cb3\\u5408\\u6717\\ud83c\\udf80\\u77ed\\u7de8\\u96c6\\u767a\\u58f2\\u4e2d\", \"\\u4f50\\u5009\\u304a\\u308a\\u3053@\\u5358\\u884c\\u672c\\u767a\\u58f2\\u4e2d\", \"rioka\", \"\\u767d\\u6edd\", \"\\u30ac\\u3057\\u30ac\\u3057\", \"\\u82b1\\u30f6\\u7530 / hanagata\", \"\\u5c71\\u5439\\u8272\", \"\\u4e5d\\u5341\\u4e5d\", \"oekakizuki\", \"\\u65e7\\u90fd\\u306a\\u304e\", \"Aoi Ogata\", \"\\u5bcc\\u58eb\\u8304 \\u9df9\", \"hg6\", \"\\u30b1\\u30a4\\u30b1\\u30a4\\u30fbT\", \"\\u6d77\\u5cf6\\u5343\\u672c\", \"Jia Ma\", \"\\u9022\\u7de8\\u3044\\u3042\\u3080\", \"\\u30df\\u30df\\u30b9\", \"\\u3042\\u3093\\u306e\\u3042\\u30fc\\u306e\", \"\\u7d14\\u767d\\u53ef\\u6190\", \"\\u304a\\u3086\\u3086\", \"\\u8336\\u3054\\u307e\", \"\\u30b5\\u30e1\\u30e4\\u30de\\u6b21\\u90ce\", \"\\u3046\\u3055\\u3082\\u3061\\u3002\", \"\\u30b7\\u30e7\\u30c3\\u30c8\\u30ac\\u30f3\\u30de\\u30f3\", \"\\u5b5f\\u9054\", \"\\u30ed\\u30a4\\u30b9\\u30c8\", \"\\u68a6\\u590fshimmer\", \"\\u6cb3CY\", \"\\u30b3\\u30fc\\u30e9\", \"\\u30dd\\u30c6\\u30c8\\u30eb\\u30b9\", \"Rosuuri\", \"\\u30ec\\u30c9\\u30eb\", \"\\u30cf\\u30e9\\u30c0\\u30df\\u30e6\\u30ad\", \"Nengoro(\\u30cd\\u3093\\u3054\\u308d\\u3045)\", \"\\u304a\\u3080\\u305f\\u3064/omutatsu\", \"\\u304b\\u308c\\u3044\", \"\\u8272\\u7d20\", \"\\u6211\\u7f8e\\u862d\\u2606FGOAC\\u6982\\u5ff5\\u793c\\u88c5\", \"SWAV\", \"\\u3055\\u304b\\u3044\\u30ef\\u30ab\\ud83c\\udf0e\\u304a\\u4ed5\\u4e8b\\u52df\\u96c6\\u4e2d\", \"\\u304d\\u3055\\u3089\\u304e\\u3086\\u308a\", \"xiwa\", \"\\u3057\\u3050\\u308c\\u3046\\u3044\", \"\\u30c8\\u30fc\\u30b3\", \"\\u8272\\u8c37\\u3042\\u3059\\u304b\", \"HARURI / \\u4ed5\\u4e8b\\u52df\\u96c6\\u4e2d\", \"Lunacle @\\u304a\\u4ed5\\u4e8b\\u52df\\u96c6\\u4e2d\", \"az./\\u4e07\\u4e08\\u6893\", \"\\u9060\\u5742\\u3042\\u3055\\u304e\", \"*zoff\", \"\\u78a7\\u98a8\\u7fbd BOOTH\\u5e97\\u30aa\\u30fc\\u30d7\\u30f3\", \"\\u30ca\\u30b3\\u30e2\", \"ArseniXC\", \"Lpip\", \"\\u65f3---\", \"\\u5343\\u591cQYS3\", \"\\u307e\\u3075\\u3086\", \"lack\", \"\\u30b1\\u30fc\\u30b9\\u30ef\\u30d9\\u3010K-SUWABE\\u3011\", \"sena\", \"Nardack\"], \"y\": [5, 5, 3, 3, 3, 2, 2, 2, 2, 2, 2, 2, 2, 1, 1, 1, 1, 1, 1, 1, 1, 1, 1, 1, 1, 1, 1, 1, 1, 1, 1, 1, 1, 1, 1, 1, 1, 1, 1, 1, 1, 1, 1, 1, 1, 1, 1, 1, 1, 1, 1, 1, 1, 1, 1, 1, 1, 1, 1, 1, 1, 1, 1, 1, 1, 1, 1, 1, 1, 1, 1, 1, 1, 1, 1, 1, 1, 1, 1, 1, 1, 1, 1, 1, 1, 1, 1]}],                        {\"template\": {\"data\": {\"bar\": [{\"error_x\": {\"color\": \"#2a3f5f\"}, \"error_y\": {\"color\": \"#2a3f5f\"}, \"marker\": {\"line\": {\"color\": \"#E5ECF6\", \"width\": 0.5}}, \"type\": \"bar\"}], \"barpolar\": [{\"marker\": {\"line\": {\"color\": \"#E5ECF6\", \"width\": 0.5}}, \"type\": \"barpolar\"}], \"carpet\": [{\"aaxis\": {\"endlinecolor\": \"#2a3f5f\", \"gridcolor\": \"white\", \"linecolor\": \"white\", \"minorgridcolor\": \"white\", \"startlinecolor\": \"#2a3f5f\"}, \"baxis\": {\"endlinecolor\": \"#2a3f5f\", \"gridcolor\": \"white\", \"linecolor\": \"white\", \"minorgridcolor\": \"white\", \"startlinecolor\": \"#2a3f5f\"}, \"type\": \"carpet\"}], \"choropleth\": [{\"colorbar\": {\"outlinewidth\": 0, \"ticks\": \"\"}, \"type\": \"choropleth\"}], \"contour\": [{\"colorbar\": {\"outlinewidth\": 0, \"ticks\": \"\"}, \"colorscale\": [[0.0, \"#0d0887\"], [0.1111111111111111, \"#46039f\"], [0.2222222222222222, \"#7201a8\"], [0.3333333333333333, \"#9c179e\"], [0.4444444444444444, \"#bd3786\"], [0.5555555555555556, \"#d8576b\"], [0.6666666666666666, \"#ed7953\"], [0.7777777777777778, \"#fb9f3a\"], [0.8888888888888888, \"#fdca26\"], [1.0, \"#f0f921\"]], \"type\": \"contour\"}], \"contourcarpet\": [{\"colorbar\": {\"outlinewidth\": 0, \"ticks\": \"\"}, \"type\": \"contourcarpet\"}], \"heatmap\": [{\"colorbar\": {\"outlinewidth\": 0, \"ticks\": \"\"}, \"colorscale\": [[0.0, \"#0d0887\"], [0.1111111111111111, \"#46039f\"], [0.2222222222222222, \"#7201a8\"], [0.3333333333333333, \"#9c179e\"], [0.4444444444444444, \"#bd3786\"], [0.5555555555555556, \"#d8576b\"], [0.6666666666666666, \"#ed7953\"], [0.7777777777777778, \"#fb9f3a\"], [0.8888888888888888, \"#fdca26\"], [1.0, \"#f0f921\"]], \"type\": \"heatmap\"}], \"heatmapgl\": [{\"colorbar\": {\"outlinewidth\": 0, \"ticks\": \"\"}, \"colorscale\": [[0.0, \"#0d0887\"], [0.1111111111111111, \"#46039f\"], [0.2222222222222222, \"#7201a8\"], [0.3333333333333333, \"#9c179e\"], [0.4444444444444444, \"#bd3786\"], [0.5555555555555556, \"#d8576b\"], [0.6666666666666666, \"#ed7953\"], [0.7777777777777778, \"#fb9f3a\"], [0.8888888888888888, \"#fdca26\"], [1.0, \"#f0f921\"]], \"type\": \"heatmapgl\"}], \"histogram\": [{\"marker\": {\"colorbar\": {\"outlinewidth\": 0, \"ticks\": \"\"}}, \"type\": \"histogram\"}], \"histogram2d\": [{\"colorbar\": {\"outlinewidth\": 0, \"ticks\": \"\"}, \"colorscale\": [[0.0, \"#0d0887\"], [0.1111111111111111, \"#46039f\"], [0.2222222222222222, \"#7201a8\"], [0.3333333333333333, \"#9c179e\"], [0.4444444444444444, \"#bd3786\"], [0.5555555555555556, \"#d8576b\"], [0.6666666666666666, \"#ed7953\"], [0.7777777777777778, \"#fb9f3a\"], [0.8888888888888888, \"#fdca26\"], [1.0, \"#f0f921\"]], \"type\": \"histogram2d\"}], \"histogram2dcontour\": [{\"colorbar\": {\"outlinewidth\": 0, \"ticks\": \"\"}, \"colorscale\": [[0.0, \"#0d0887\"], [0.1111111111111111, \"#46039f\"], [0.2222222222222222, \"#7201a8\"], [0.3333333333333333, \"#9c179e\"], [0.4444444444444444, \"#bd3786\"], [0.5555555555555556, \"#d8576b\"], [0.6666666666666666, \"#ed7953\"], [0.7777777777777778, \"#fb9f3a\"], [0.8888888888888888, \"#fdca26\"], [1.0, \"#f0f921\"]], \"type\": \"histogram2dcontour\"}], \"mesh3d\": [{\"colorbar\": {\"outlinewidth\": 0, \"ticks\": \"\"}, \"type\": \"mesh3d\"}], \"parcoords\": [{\"line\": {\"colorbar\": {\"outlinewidth\": 0, \"ticks\": \"\"}}, \"type\": \"parcoords\"}], \"pie\": [{\"automargin\": true, \"type\": \"pie\"}], \"scatter\": [{\"marker\": {\"colorbar\": {\"outlinewidth\": 0, \"ticks\": \"\"}}, \"type\": \"scatter\"}], \"scatter3d\": [{\"line\": {\"colorbar\": {\"outlinewidth\": 0, \"ticks\": \"\"}}, \"marker\": {\"colorbar\": {\"outlinewidth\": 0, \"ticks\": \"\"}}, \"type\": \"scatter3d\"}], \"scattercarpet\": [{\"marker\": {\"colorbar\": {\"outlinewidth\": 0, \"ticks\": \"\"}}, \"type\": \"scattercarpet\"}], \"scattergeo\": [{\"marker\": {\"colorbar\": {\"outlinewidth\": 0, \"ticks\": \"\"}}, \"type\": \"scattergeo\"}], \"scattergl\": [{\"marker\": {\"colorbar\": {\"outlinewidth\": 0, \"ticks\": \"\"}}, \"type\": \"scattergl\"}], \"scattermapbox\": [{\"marker\": {\"colorbar\": {\"outlinewidth\": 0, \"ticks\": \"\"}}, \"type\": \"scattermapbox\"}], \"scatterpolar\": [{\"marker\": {\"colorbar\": {\"outlinewidth\": 0, \"ticks\": \"\"}}, \"type\": \"scatterpolar\"}], \"scatterpolargl\": [{\"marker\": {\"colorbar\": {\"outlinewidth\": 0, \"ticks\": \"\"}}, \"type\": \"scatterpolargl\"}], \"scatterternary\": [{\"marker\": {\"colorbar\": {\"outlinewidth\": 0, \"ticks\": \"\"}}, \"type\": \"scatterternary\"}], \"surface\": [{\"colorbar\": {\"outlinewidth\": 0, \"ticks\": \"\"}, \"colorscale\": [[0.0, \"#0d0887\"], [0.1111111111111111, \"#46039f\"], [0.2222222222222222, \"#7201a8\"], [0.3333333333333333, \"#9c179e\"], [0.4444444444444444, \"#bd3786\"], [0.5555555555555556, \"#d8576b\"], [0.6666666666666666, \"#ed7953\"], [0.7777777777777778, \"#fb9f3a\"], [0.8888888888888888, \"#fdca26\"], [1.0, \"#f0f921\"]], \"type\": \"surface\"}], \"table\": [{\"cells\": {\"fill\": {\"color\": \"#EBF0F8\"}, \"line\": {\"color\": \"white\"}}, \"header\": {\"fill\": {\"color\": \"#C8D4E3\"}, \"line\": {\"color\": \"white\"}}, \"type\": \"table\"}]}, \"layout\": {\"annotationdefaults\": {\"arrowcolor\": \"#2a3f5f\", \"arrowhead\": 0, \"arrowwidth\": 1}, \"autotypenumbers\": \"strict\", \"coloraxis\": {\"colorbar\": {\"outlinewidth\": 0, \"ticks\": \"\"}}, \"colorscale\": {\"diverging\": [[0, \"#8e0152\"], [0.1, \"#c51b7d\"], [0.2, \"#de77ae\"], [0.3, \"#f1b6da\"], [0.4, \"#fde0ef\"], [0.5, \"#f7f7f7\"], [0.6, \"#e6f5d0\"], [0.7, \"#b8e186\"], [0.8, \"#7fbc41\"], [0.9, \"#4d9221\"], [1, \"#276419\"]], \"sequential\": [[0.0, \"#0d0887\"], [0.1111111111111111, \"#46039f\"], [0.2222222222222222, \"#7201a8\"], [0.3333333333333333, \"#9c179e\"], [0.4444444444444444, \"#bd3786\"], [0.5555555555555556, \"#d8576b\"], [0.6666666666666666, \"#ed7953\"], [0.7777777777777778, \"#fb9f3a\"], [0.8888888888888888, \"#fdca26\"], [1.0, \"#f0f921\"]], \"sequentialminus\": [[0.0, \"#0d0887\"], [0.1111111111111111, \"#46039f\"], [0.2222222222222222, \"#7201a8\"], [0.3333333333333333, \"#9c179e\"], [0.4444444444444444, \"#bd3786\"], [0.5555555555555556, \"#d8576b\"], [0.6666666666666666, \"#ed7953\"], [0.7777777777777778, \"#fb9f3a\"], [0.8888888888888888, \"#fdca26\"], [1.0, \"#f0f921\"]]}, \"colorway\": [\"#636efa\", \"#EF553B\", \"#00cc96\", \"#ab63fa\", \"#FFA15A\", \"#19d3f3\", \"#FF6692\", \"#B6E880\", \"#FF97FF\", \"#FECB52\"], \"font\": {\"color\": \"#2a3f5f\"}, \"geo\": {\"bgcolor\": \"white\", \"lakecolor\": \"white\", \"landcolor\": \"#E5ECF6\", \"showlakes\": true, \"showland\": true, \"subunitcolor\": \"white\"}, \"hoverlabel\": {\"align\": \"left\"}, \"hovermode\": \"closest\", \"mapbox\": {\"style\": \"light\"}, \"paper_bgcolor\": \"white\", \"plot_bgcolor\": \"#E5ECF6\", \"polar\": {\"angularaxis\": {\"gridcolor\": \"white\", \"linecolor\": \"white\", \"ticks\": \"\"}, \"bgcolor\": \"#E5ECF6\", \"radialaxis\": {\"gridcolor\": \"white\", \"linecolor\": \"white\", \"ticks\": \"\"}}, \"scene\": {\"xaxis\": {\"backgroundcolor\": \"#E5ECF6\", \"gridcolor\": \"white\", \"gridwidth\": 2, \"linecolor\": \"white\", \"showbackground\": true, \"ticks\": \"\", \"zerolinecolor\": \"white\"}, \"yaxis\": {\"backgroundcolor\": \"#E5ECF6\", \"gridcolor\": \"white\", \"gridwidth\": 2, \"linecolor\": \"white\", \"showbackground\": true, \"ticks\": \"\", \"zerolinecolor\": \"white\"}, \"zaxis\": {\"backgroundcolor\": \"#E5ECF6\", \"gridcolor\": \"white\", \"gridwidth\": 2, \"linecolor\": \"white\", \"showbackground\": true, \"ticks\": \"\", \"zerolinecolor\": \"white\"}}, \"shapedefaults\": {\"line\": {\"color\": \"#2a3f5f\"}}, \"ternary\": {\"aaxis\": {\"gridcolor\": \"white\", \"linecolor\": \"white\", \"ticks\": \"\"}, \"baxis\": {\"gridcolor\": \"white\", \"linecolor\": \"white\", \"ticks\": \"\"}, \"bgcolor\": \"#E5ECF6\", \"caxis\": {\"gridcolor\": \"white\", \"linecolor\": \"white\", \"ticks\": \"\"}}, \"title\": {\"x\": 0.05}, \"xaxis\": {\"automargin\": true, \"gridcolor\": \"white\", \"linecolor\": \"white\", \"ticks\": \"\", \"title\": {\"standoff\": 15}, \"zerolinecolor\": \"white\", \"zerolinewidth\": 2}, \"yaxis\": {\"automargin\": true, \"gridcolor\": \"white\", \"linecolor\": \"white\", \"ticks\": \"\", \"title\": {\"standoff\": 15}, \"zerolinecolor\": \"white\", \"zerolinewidth\": 2}}}, \"title\": {\"text\": \"Image number per illustrator in ranking\"}},                        {\"responsive\": true}                    ).then(function(){\n",
       "                            \n",
       "var gd = document.getElementById('a9d2d40a-26de-4ff0-aaad-bd408fb61ebb');\n",
       "var x = new MutationObserver(function (mutations, observer) {{\n",
       "        var display = window.getComputedStyle(gd).display;\n",
       "        if (!display || display === 'none') {{\n",
       "            console.log([gd, 'removed!']);\n",
       "            Plotly.purge(gd);\n",
       "            observer.disconnect();\n",
       "        }}\n",
       "}});\n",
       "\n",
       "// Listen for the removal of the full notebook cells\n",
       "var notebookContainer = gd.closest('#notebook-container');\n",
       "if (notebookContainer) {{\n",
       "    x.observe(notebookContainer, {childList: true});\n",
       "}}\n",
       "\n",
       "// Listen for the clearing of the current output cell\n",
       "var outputEl = gd.closest('.output');\n",
       "if (outputEl) {{\n",
       "    x.observe(outputEl, {childList: true});\n",
       "}}\n",
       "\n",
       "                        })                };                });            </script>        </div>"
      ]
     },
     "metadata": {},
     "output_type": "display_data"
    }
   ],
   "source": [
    "#x = ['Product A', 'Product B', 'Product C']\n",
    "#y = [20, 14, 23]\n",
    "\n",
    "# Use the hovertext kw argument for hover text\n",
    "fig = go.Figure(data=[go.Bar(x=graphData['username'], y=graphData['nb'])])\n",
    "# Customize aspect\n",
    "fig.update_traces(marker_color='rgb(158,202,225)', marker_line_color='rgb(8,48,107)',\n",
    "                  marker_line_width=1.5, opacity=0.6)\n",
    "fig.update_layout(title_text='Image number per illustrator in ranking')\n",
    "fig.show()"
   ]
  },
  {
   "cell_type": "code",
   "execution_count": 69,
   "id": "expected-jackson",
   "metadata": {},
   "outputs": [
    {
     "name": "stdout",
     "output_type": "stream",
     "text": [
      "{'_id': {'tag': 'horse girl'}, 'nb': 5}\n",
      "{'_id': {'tag': 'Pokémon'}, 'nb': 5}\n",
      "{'_id': {'tag': 'work illustration'}, 'nb': 5}\n",
      "{'_id': {'tag': 'original'}, 'nb': 5}\n",
      "{'_id': {'tag': 'girl'}, 'nb': 5}\n",
      "{'_id': {'tag': 'evangelion'}, 'nb': 5}\n",
      "{'_id': {'tag': 'Uma Musume Pretty Derby'}, 'nb': 5}\n",
      "{'_id': {'tag': 'subarashikihokkorinosekai'}, 'nb': 5}\n",
      "{'_id': {'tag': 'beautiful'}, 'nb': 5}\n",
      "{'_id': {'tag': 'breasts'}, 'nb': 5}\n",
      "{'_id': {'tag': 'original 5000+ bookmarks'}, 'nb': 5}\n",
      "{'_id': {'tag': 'copyright'}, 'nb': 5}\n",
      "{'_id': {'tag': 'gloves'}, 'nb': 5}\n",
      "{'_id': {'tag': 'scenery'}, 'nb': 5}\n",
      "{'_id': {'tag': 'Genshin Impact'}, 'nb': 5}\n",
      "{'_id': {'tag': 'neon genesis evangelion'}, 'nb': 5}\n",
      "{'_id': {'tag': 'ここに巣を作ろう'}, 'nb': 5}\n",
      "{'_id': {'tag': 'creation'}, 'nb': 5}\n",
      "{'_id': {'tag': 'korehaiihatsune'}, 'nb': 4}\n",
      "{'_id': {'tag': 'manga'}, 'nb': 4}\n",
      "{'_id': {'tag': 'young girl'}, 'nb': 4}\n",
      "{'_id': {'tag': 'umaamusumepurithi-da-bi-sennyu-za-iri'}, 'nb': 4}\n",
      "{'_id': {'tag': 'plugsuit'}, 'nb': 4}\n",
      "{'_id': {'tag': 'hatsune miku'}, 'nb': 4}\n",
      "{'_id': {'tag': 'rei ayanami'}, 'nb': 4}\n",
      "{'_id': {'tag': 'high school girl'}, 'nb': 4}\n",
      "{'_id': {'tag': 'Pokémon 10000+ bookmarks'}, 'nb': 4}\n",
      "{'_id': {'tag': 'Fate/GO 1000+ bookmarks'}, 'nb': 4}\n",
      "{'_id': {'tag': 'original 7,500+ bookmarks'}, 'nb': 4}\n",
      "{'_id': {'tag': 'Evangelion New Theatrical Release'}, 'nb': 4}\n",
      "{'_id': {'tag': 'cherry blossoms'}, 'nb': 4}\n",
      "{'_id': {'tag': 'Virtual Youtuber'}, 'nb': 4}\n",
      "{'_id': {'tag': 'Fate/GrandOrder'}, 'nb': 4}\n",
      "{'_id': {'tag': 'cynthia'}, 'nb': 4}\n",
      "{'_id': {'tag': 'Gold Ship (UMPD)'}, 'nb': 4}\n",
      "{'_id': {'tag': 'FGO'}, 'nb': 4}\n",
      "{'_id': {'tag': 'Miku must be an angel'}, 'nb': 4}\n",
      "{'_id': {'tag': 'Evangelion 1000+ bookmarks'}, 'nb': 4}\n",
      "{'_id': {'tag': 'original works'}, 'nb': 4}\n",
      "{'_id': {'tag': 'Sweets Bird'}, 'nb': 4}\n",
      "{'_id': {'tag': 'Hololive'}, 'nb': 4}\n",
      "{'_id': {'tag': 'ronnguayanami'}, 'nb': 4}\n",
      "{'_id': {'tag': 'heavenly ass'}, 'nb': 4}\n",
      "{'_id': {'tag': 'Virtual YouTuber 10000+ bookmarks'}, 'nb': 4}\n",
      "{'_id': {'tag': 'VOCALOID'}, 'nb': 4}\n",
      "{'_id': {'tag': 'sailor uniform'}, 'nb': 4}\n"
     ]
    }
   ],
   "source": [
    "#Get \n",
    "cursor = collection.aggregate([\n",
    "    {'$group': {\n",
    "        '_id': {'tag': '$tag'},\n",
    "        'date': {'$addToSet': '$date'}\n",
    "    }},\n",
    "    {'$project': {\n",
    "        'nb': {'$size': '$date'}\n",
    "    }},\n",
    "    {'$match': {\n",
    "        'nb': {'$gt': 3}\n",
    "    }},\n",
    "    {'$sort': {'nb': -1}}\n",
    "])\n",
    "graphData = {'tag': [], 'nb': []}\n",
    "for document in cursor:\n",
    "    graphData['tag'].append(document['_id']['tag'])\n",
    "    graphData['nb'].append(document['nb'])\n",
    "    print(document)"
   ]
  },
  {
   "cell_type": "code",
   "execution_count": 70,
   "id": "bigger-moscow",
   "metadata": {},
   "outputs": [
    {
     "data": {
      "application/vnd.plotly.v1+json": {
       "config": {
        "plotlyServerURL": "https://plot.ly"
       },
       "data": [
        {
         "marker": {
          "color": "rgb(158,202,225)",
          "line": {
           "color": "rgb(0,0,0)",
           "width": 1.5
          }
         },
         "opacity": 0.6,
         "type": "bar",
         "x": [
          "horse girl",
          "Pokémon",
          "work illustration",
          "original",
          "girl",
          "evangelion",
          "Uma Musume Pretty Derby",
          "subarashikihokkorinosekai",
          "beautiful",
          "breasts",
          "original 5000+ bookmarks",
          "copyright",
          "gloves",
          "scenery",
          "Genshin Impact",
          "neon genesis evangelion",
          "ここに巣を作ろう",
          "creation",
          "korehaiihatsune",
          "manga",
          "young girl",
          "umaamusumepurithi-da-bi-sennyu-za-iri",
          "plugsuit",
          "hatsune miku",
          "rei ayanami",
          "high school girl",
          "Pokémon 10000+ bookmarks",
          "Fate/GO 1000+ bookmarks",
          "original 7,500+ bookmarks",
          "Evangelion New Theatrical Release",
          "cherry blossoms",
          "Virtual Youtuber",
          "Fate/GrandOrder",
          "cynthia",
          "Gold Ship (UMPD)",
          "FGO",
          "Miku must be an angel",
          "Evangelion 1000+ bookmarks",
          "original works",
          "Sweets Bird",
          "Hololive",
          "ronnguayanami",
          "heavenly ass",
          "Virtual YouTuber 10000+ bookmarks",
          "VOCALOID",
          "sailor uniform"
         ],
         "y": [
          5,
          5,
          5,
          5,
          5,
          5,
          5,
          5,
          5,
          5,
          5,
          5,
          5,
          5,
          5,
          5,
          5,
          5,
          4,
          4,
          4,
          4,
          4,
          4,
          4,
          4,
          4,
          4,
          4,
          4,
          4,
          4,
          4,
          4,
          4,
          4,
          4,
          4,
          4,
          4,
          4,
          4,
          4,
          4,
          4,
          4
         ]
        }
       ],
       "layout": {
        "template": {
         "data": {
          "bar": [
           {
            "error_x": {
             "color": "#2a3f5f"
            },
            "error_y": {
             "color": "#2a3f5f"
            },
            "marker": {
             "line": {
              "color": "#E5ECF6",
              "width": 0.5
             }
            },
            "type": "bar"
           }
          ],
          "barpolar": [
           {
            "marker": {
             "line": {
              "color": "#E5ECF6",
              "width": 0.5
             }
            },
            "type": "barpolar"
           }
          ],
          "carpet": [
           {
            "aaxis": {
             "endlinecolor": "#2a3f5f",
             "gridcolor": "white",
             "linecolor": "white",
             "minorgridcolor": "white",
             "startlinecolor": "#2a3f5f"
            },
            "baxis": {
             "endlinecolor": "#2a3f5f",
             "gridcolor": "white",
             "linecolor": "white",
             "minorgridcolor": "white",
             "startlinecolor": "#2a3f5f"
            },
            "type": "carpet"
           }
          ],
          "choropleth": [
           {
            "colorbar": {
             "outlinewidth": 0,
             "ticks": ""
            },
            "type": "choropleth"
           }
          ],
          "contour": [
           {
            "colorbar": {
             "outlinewidth": 0,
             "ticks": ""
            },
            "colorscale": [
             [
              0,
              "#0d0887"
             ],
             [
              0.1111111111111111,
              "#46039f"
             ],
             [
              0.2222222222222222,
              "#7201a8"
             ],
             [
              0.3333333333333333,
              "#9c179e"
             ],
             [
              0.4444444444444444,
              "#bd3786"
             ],
             [
              0.5555555555555556,
              "#d8576b"
             ],
             [
              0.6666666666666666,
              "#ed7953"
             ],
             [
              0.7777777777777778,
              "#fb9f3a"
             ],
             [
              0.8888888888888888,
              "#fdca26"
             ],
             [
              1,
              "#f0f921"
             ]
            ],
            "type": "contour"
           }
          ],
          "contourcarpet": [
           {
            "colorbar": {
             "outlinewidth": 0,
             "ticks": ""
            },
            "type": "contourcarpet"
           }
          ],
          "heatmap": [
           {
            "colorbar": {
             "outlinewidth": 0,
             "ticks": ""
            },
            "colorscale": [
             [
              0,
              "#0d0887"
             ],
             [
              0.1111111111111111,
              "#46039f"
             ],
             [
              0.2222222222222222,
              "#7201a8"
             ],
             [
              0.3333333333333333,
              "#9c179e"
             ],
             [
              0.4444444444444444,
              "#bd3786"
             ],
             [
              0.5555555555555556,
              "#d8576b"
             ],
             [
              0.6666666666666666,
              "#ed7953"
             ],
             [
              0.7777777777777778,
              "#fb9f3a"
             ],
             [
              0.8888888888888888,
              "#fdca26"
             ],
             [
              1,
              "#f0f921"
             ]
            ],
            "type": "heatmap"
           }
          ],
          "heatmapgl": [
           {
            "colorbar": {
             "outlinewidth": 0,
             "ticks": ""
            },
            "colorscale": [
             [
              0,
              "#0d0887"
             ],
             [
              0.1111111111111111,
              "#46039f"
             ],
             [
              0.2222222222222222,
              "#7201a8"
             ],
             [
              0.3333333333333333,
              "#9c179e"
             ],
             [
              0.4444444444444444,
              "#bd3786"
             ],
             [
              0.5555555555555556,
              "#d8576b"
             ],
             [
              0.6666666666666666,
              "#ed7953"
             ],
             [
              0.7777777777777778,
              "#fb9f3a"
             ],
             [
              0.8888888888888888,
              "#fdca26"
             ],
             [
              1,
              "#f0f921"
             ]
            ],
            "type": "heatmapgl"
           }
          ],
          "histogram": [
           {
            "marker": {
             "colorbar": {
              "outlinewidth": 0,
              "ticks": ""
             }
            },
            "type": "histogram"
           }
          ],
          "histogram2d": [
           {
            "colorbar": {
             "outlinewidth": 0,
             "ticks": ""
            },
            "colorscale": [
             [
              0,
              "#0d0887"
             ],
             [
              0.1111111111111111,
              "#46039f"
             ],
             [
              0.2222222222222222,
              "#7201a8"
             ],
             [
              0.3333333333333333,
              "#9c179e"
             ],
             [
              0.4444444444444444,
              "#bd3786"
             ],
             [
              0.5555555555555556,
              "#d8576b"
             ],
             [
              0.6666666666666666,
              "#ed7953"
             ],
             [
              0.7777777777777778,
              "#fb9f3a"
             ],
             [
              0.8888888888888888,
              "#fdca26"
             ],
             [
              1,
              "#f0f921"
             ]
            ],
            "type": "histogram2d"
           }
          ],
          "histogram2dcontour": [
           {
            "colorbar": {
             "outlinewidth": 0,
             "ticks": ""
            },
            "colorscale": [
             [
              0,
              "#0d0887"
             ],
             [
              0.1111111111111111,
              "#46039f"
             ],
             [
              0.2222222222222222,
              "#7201a8"
             ],
             [
              0.3333333333333333,
              "#9c179e"
             ],
             [
              0.4444444444444444,
              "#bd3786"
             ],
             [
              0.5555555555555556,
              "#d8576b"
             ],
             [
              0.6666666666666666,
              "#ed7953"
             ],
             [
              0.7777777777777778,
              "#fb9f3a"
             ],
             [
              0.8888888888888888,
              "#fdca26"
             ],
             [
              1,
              "#f0f921"
             ]
            ],
            "type": "histogram2dcontour"
           }
          ],
          "mesh3d": [
           {
            "colorbar": {
             "outlinewidth": 0,
             "ticks": ""
            },
            "type": "mesh3d"
           }
          ],
          "parcoords": [
           {
            "line": {
             "colorbar": {
              "outlinewidth": 0,
              "ticks": ""
             }
            },
            "type": "parcoords"
           }
          ],
          "pie": [
           {
            "automargin": true,
            "type": "pie"
           }
          ],
          "scatter": [
           {
            "marker": {
             "colorbar": {
              "outlinewidth": 0,
              "ticks": ""
             }
            },
            "type": "scatter"
           }
          ],
          "scatter3d": [
           {
            "line": {
             "colorbar": {
              "outlinewidth": 0,
              "ticks": ""
             }
            },
            "marker": {
             "colorbar": {
              "outlinewidth": 0,
              "ticks": ""
             }
            },
            "type": "scatter3d"
           }
          ],
          "scattercarpet": [
           {
            "marker": {
             "colorbar": {
              "outlinewidth": 0,
              "ticks": ""
             }
            },
            "type": "scattercarpet"
           }
          ],
          "scattergeo": [
           {
            "marker": {
             "colorbar": {
              "outlinewidth": 0,
              "ticks": ""
             }
            },
            "type": "scattergeo"
           }
          ],
          "scattergl": [
           {
            "marker": {
             "colorbar": {
              "outlinewidth": 0,
              "ticks": ""
             }
            },
            "type": "scattergl"
           }
          ],
          "scattermapbox": [
           {
            "marker": {
             "colorbar": {
              "outlinewidth": 0,
              "ticks": ""
             }
            },
            "type": "scattermapbox"
           }
          ],
          "scatterpolar": [
           {
            "marker": {
             "colorbar": {
              "outlinewidth": 0,
              "ticks": ""
             }
            },
            "type": "scatterpolar"
           }
          ],
          "scatterpolargl": [
           {
            "marker": {
             "colorbar": {
              "outlinewidth": 0,
              "ticks": ""
             }
            },
            "type": "scatterpolargl"
           }
          ],
          "scatterternary": [
           {
            "marker": {
             "colorbar": {
              "outlinewidth": 0,
              "ticks": ""
             }
            },
            "type": "scatterternary"
           }
          ],
          "surface": [
           {
            "colorbar": {
             "outlinewidth": 0,
             "ticks": ""
            },
            "colorscale": [
             [
              0,
              "#0d0887"
             ],
             [
              0.1111111111111111,
              "#46039f"
             ],
             [
              0.2222222222222222,
              "#7201a8"
             ],
             [
              0.3333333333333333,
              "#9c179e"
             ],
             [
              0.4444444444444444,
              "#bd3786"
             ],
             [
              0.5555555555555556,
              "#d8576b"
             ],
             [
              0.6666666666666666,
              "#ed7953"
             ],
             [
              0.7777777777777778,
              "#fb9f3a"
             ],
             [
              0.8888888888888888,
              "#fdca26"
             ],
             [
              1,
              "#f0f921"
             ]
            ],
            "type": "surface"
           }
          ],
          "table": [
           {
            "cells": {
             "fill": {
              "color": "#EBF0F8"
             },
             "line": {
              "color": "white"
             }
            },
            "header": {
             "fill": {
              "color": "#C8D4E3"
             },
             "line": {
              "color": "white"
             }
            },
            "type": "table"
           }
          ]
         },
         "layout": {
          "annotationdefaults": {
           "arrowcolor": "#2a3f5f",
           "arrowhead": 0,
           "arrowwidth": 1
          },
          "autotypenumbers": "strict",
          "coloraxis": {
           "colorbar": {
            "outlinewidth": 0,
            "ticks": ""
           }
          },
          "colorscale": {
           "diverging": [
            [
             0,
             "#8e0152"
            ],
            [
             0.1,
             "#c51b7d"
            ],
            [
             0.2,
             "#de77ae"
            ],
            [
             0.3,
             "#f1b6da"
            ],
            [
             0.4,
             "#fde0ef"
            ],
            [
             0.5,
             "#f7f7f7"
            ],
            [
             0.6,
             "#e6f5d0"
            ],
            [
             0.7,
             "#b8e186"
            ],
            [
             0.8,
             "#7fbc41"
            ],
            [
             0.9,
             "#4d9221"
            ],
            [
             1,
             "#276419"
            ]
           ],
           "sequential": [
            [
             0,
             "#0d0887"
            ],
            [
             0.1111111111111111,
             "#46039f"
            ],
            [
             0.2222222222222222,
             "#7201a8"
            ],
            [
             0.3333333333333333,
             "#9c179e"
            ],
            [
             0.4444444444444444,
             "#bd3786"
            ],
            [
             0.5555555555555556,
             "#d8576b"
            ],
            [
             0.6666666666666666,
             "#ed7953"
            ],
            [
             0.7777777777777778,
             "#fb9f3a"
            ],
            [
             0.8888888888888888,
             "#fdca26"
            ],
            [
             1,
             "#f0f921"
            ]
           ],
           "sequentialminus": [
            [
             0,
             "#0d0887"
            ],
            [
             0.1111111111111111,
             "#46039f"
            ],
            [
             0.2222222222222222,
             "#7201a8"
            ],
            [
             0.3333333333333333,
             "#9c179e"
            ],
            [
             0.4444444444444444,
             "#bd3786"
            ],
            [
             0.5555555555555556,
             "#d8576b"
            ],
            [
             0.6666666666666666,
             "#ed7953"
            ],
            [
             0.7777777777777778,
             "#fb9f3a"
            ],
            [
             0.8888888888888888,
             "#fdca26"
            ],
            [
             1,
             "#f0f921"
            ]
           ]
          },
          "colorway": [
           "#636efa",
           "#EF553B",
           "#00cc96",
           "#ab63fa",
           "#FFA15A",
           "#19d3f3",
           "#FF6692",
           "#B6E880",
           "#FF97FF",
           "#FECB52"
          ],
          "font": {
           "color": "#2a3f5f"
          },
          "geo": {
           "bgcolor": "white",
           "lakecolor": "white",
           "landcolor": "#E5ECF6",
           "showlakes": true,
           "showland": true,
           "subunitcolor": "white"
          },
          "hoverlabel": {
           "align": "left"
          },
          "hovermode": "closest",
          "mapbox": {
           "style": "light"
          },
          "paper_bgcolor": "white",
          "plot_bgcolor": "#E5ECF6",
          "polar": {
           "angularaxis": {
            "gridcolor": "white",
            "linecolor": "white",
            "ticks": ""
           },
           "bgcolor": "#E5ECF6",
           "radialaxis": {
            "gridcolor": "white",
            "linecolor": "white",
            "ticks": ""
           }
          },
          "scene": {
           "xaxis": {
            "backgroundcolor": "#E5ECF6",
            "gridcolor": "white",
            "gridwidth": 2,
            "linecolor": "white",
            "showbackground": true,
            "ticks": "",
            "zerolinecolor": "white"
           },
           "yaxis": {
            "backgroundcolor": "#E5ECF6",
            "gridcolor": "white",
            "gridwidth": 2,
            "linecolor": "white",
            "showbackground": true,
            "ticks": "",
            "zerolinecolor": "white"
           },
           "zaxis": {
            "backgroundcolor": "#E5ECF6",
            "gridcolor": "white",
            "gridwidth": 2,
            "linecolor": "white",
            "showbackground": true,
            "ticks": "",
            "zerolinecolor": "white"
           }
          },
          "shapedefaults": {
           "line": {
            "color": "#2a3f5f"
           }
          },
          "ternary": {
           "aaxis": {
            "gridcolor": "white",
            "linecolor": "white",
            "ticks": ""
           },
           "baxis": {
            "gridcolor": "white",
            "linecolor": "white",
            "ticks": ""
           },
           "bgcolor": "#E5ECF6",
           "caxis": {
            "gridcolor": "white",
            "linecolor": "white",
            "ticks": ""
           }
          },
          "title": {
           "x": 0.05
          },
          "xaxis": {
           "automargin": true,
           "gridcolor": "white",
           "linecolor": "white",
           "ticks": "",
           "title": {
            "standoff": 15
           },
           "zerolinecolor": "white",
           "zerolinewidth": 2
          },
          "yaxis": {
           "automargin": true,
           "gridcolor": "white",
           "linecolor": "white",
           "ticks": "",
           "title": {
            "standoff": 15
           },
           "zerolinecolor": "white",
           "zerolinewidth": 2
          }
         }
        },
        "title": {
         "text": "Tag popularity by number of days"
        }
       }
      },
      "text/html": [
       "<div>                            <div id=\"d9333d45-578c-4e08-a343-52cca0ba1992\" class=\"plotly-graph-div\" style=\"height:525px; width:100%;\"></div>            <script type=\"text/javascript\">                require([\"plotly\"], function(Plotly) {                    window.PLOTLYENV=window.PLOTLYENV || {};                                    if (document.getElementById(\"d9333d45-578c-4e08-a343-52cca0ba1992\")) {                    Plotly.newPlot(                        \"d9333d45-578c-4e08-a343-52cca0ba1992\",                        [{\"marker\": {\"color\": \"rgb(158,202,225)\", \"line\": {\"color\": \"rgb(0,0,0)\", \"width\": 1.5}}, \"opacity\": 0.6, \"type\": \"bar\", \"x\": [\"horse girl\", \"Pok\\u00e9mon\", \"work illustration\", \"original\", \"girl\", \"evangelion\", \"Uma Musume Pretty Derby\", \"subarashikihokkorinosekai\", \"beautiful\", \"breasts\", \"original 5000+ bookmarks\", \"copyright\", \"gloves\", \"scenery\", \"Genshin Impact\", \"neon genesis evangelion\", \"\\u3053\\u3053\\u306b\\u5de3\\u3092\\u4f5c\\u308d\\u3046\", \"creation\", \"korehaiihatsune\", \"manga\", \"young girl\", \"umaamusumepurithi-da-bi-sennyu-za-iri\", \"plugsuit\", \"hatsune miku\", \"rei ayanami\", \"high school girl\", \"Pok\\u00e9mon 10000+ bookmarks\", \"Fate/GO 1000+ bookmarks\", \"original 7,500+ bookmarks\", \"Evangelion New Theatrical Release\", \"cherry blossoms\", \"Virtual Youtuber\", \"Fate/GrandOrder\", \"cynthia\", \"Gold Ship (UMPD)\", \"FGO\", \"Miku must be an angel\", \"Evangelion 1000+ bookmarks\", \"original works\", \"Sweets Bird\", \"Hololive\", \"ronnguayanami\", \"heavenly ass\", \"Virtual YouTuber 10000+ bookmarks\", \"VOCALOID\", \"sailor uniform\"], \"y\": [5, 5, 5, 5, 5, 5, 5, 5, 5, 5, 5, 5, 5, 5, 5, 5, 5, 5, 4, 4, 4, 4, 4, 4, 4, 4, 4, 4, 4, 4, 4, 4, 4, 4, 4, 4, 4, 4, 4, 4, 4, 4, 4, 4, 4, 4]}],                        {\"template\": {\"data\": {\"bar\": [{\"error_x\": {\"color\": \"#2a3f5f\"}, \"error_y\": {\"color\": \"#2a3f5f\"}, \"marker\": {\"line\": {\"color\": \"#E5ECF6\", \"width\": 0.5}}, \"type\": \"bar\"}], \"barpolar\": [{\"marker\": {\"line\": {\"color\": \"#E5ECF6\", \"width\": 0.5}}, \"type\": \"barpolar\"}], \"carpet\": [{\"aaxis\": {\"endlinecolor\": \"#2a3f5f\", \"gridcolor\": \"white\", \"linecolor\": \"white\", \"minorgridcolor\": \"white\", \"startlinecolor\": \"#2a3f5f\"}, \"baxis\": {\"endlinecolor\": \"#2a3f5f\", \"gridcolor\": \"white\", \"linecolor\": \"white\", \"minorgridcolor\": \"white\", \"startlinecolor\": \"#2a3f5f\"}, \"type\": \"carpet\"}], \"choropleth\": [{\"colorbar\": {\"outlinewidth\": 0, \"ticks\": \"\"}, \"type\": \"choropleth\"}], \"contour\": [{\"colorbar\": {\"outlinewidth\": 0, \"ticks\": \"\"}, \"colorscale\": [[0.0, \"#0d0887\"], [0.1111111111111111, \"#46039f\"], [0.2222222222222222, \"#7201a8\"], [0.3333333333333333, \"#9c179e\"], [0.4444444444444444, \"#bd3786\"], [0.5555555555555556, \"#d8576b\"], [0.6666666666666666, \"#ed7953\"], [0.7777777777777778, \"#fb9f3a\"], [0.8888888888888888, \"#fdca26\"], [1.0, \"#f0f921\"]], \"type\": \"contour\"}], \"contourcarpet\": [{\"colorbar\": {\"outlinewidth\": 0, \"ticks\": \"\"}, \"type\": \"contourcarpet\"}], \"heatmap\": [{\"colorbar\": {\"outlinewidth\": 0, \"ticks\": \"\"}, \"colorscale\": [[0.0, \"#0d0887\"], [0.1111111111111111, \"#46039f\"], [0.2222222222222222, \"#7201a8\"], [0.3333333333333333, \"#9c179e\"], [0.4444444444444444, \"#bd3786\"], [0.5555555555555556, \"#d8576b\"], [0.6666666666666666, \"#ed7953\"], [0.7777777777777778, \"#fb9f3a\"], [0.8888888888888888, \"#fdca26\"], [1.0, \"#f0f921\"]], \"type\": \"heatmap\"}], \"heatmapgl\": [{\"colorbar\": {\"outlinewidth\": 0, \"ticks\": \"\"}, \"colorscale\": [[0.0, \"#0d0887\"], [0.1111111111111111, \"#46039f\"], [0.2222222222222222, \"#7201a8\"], [0.3333333333333333, \"#9c179e\"], [0.4444444444444444, \"#bd3786\"], [0.5555555555555556, \"#d8576b\"], [0.6666666666666666, \"#ed7953\"], [0.7777777777777778, \"#fb9f3a\"], [0.8888888888888888, \"#fdca26\"], [1.0, \"#f0f921\"]], \"type\": \"heatmapgl\"}], \"histogram\": [{\"marker\": {\"colorbar\": {\"outlinewidth\": 0, \"ticks\": \"\"}}, \"type\": \"histogram\"}], \"histogram2d\": [{\"colorbar\": {\"outlinewidth\": 0, \"ticks\": \"\"}, \"colorscale\": [[0.0, \"#0d0887\"], [0.1111111111111111, \"#46039f\"], [0.2222222222222222, \"#7201a8\"], [0.3333333333333333, \"#9c179e\"], [0.4444444444444444, \"#bd3786\"], [0.5555555555555556, \"#d8576b\"], [0.6666666666666666, \"#ed7953\"], [0.7777777777777778, \"#fb9f3a\"], [0.8888888888888888, \"#fdca26\"], [1.0, \"#f0f921\"]], \"type\": \"histogram2d\"}], \"histogram2dcontour\": [{\"colorbar\": {\"outlinewidth\": 0, \"ticks\": \"\"}, \"colorscale\": [[0.0, \"#0d0887\"], [0.1111111111111111, \"#46039f\"], [0.2222222222222222, \"#7201a8\"], [0.3333333333333333, \"#9c179e\"], [0.4444444444444444, \"#bd3786\"], [0.5555555555555556, \"#d8576b\"], [0.6666666666666666, \"#ed7953\"], [0.7777777777777778, \"#fb9f3a\"], [0.8888888888888888, \"#fdca26\"], [1.0, \"#f0f921\"]], \"type\": \"histogram2dcontour\"}], \"mesh3d\": [{\"colorbar\": {\"outlinewidth\": 0, \"ticks\": \"\"}, \"type\": \"mesh3d\"}], \"parcoords\": [{\"line\": {\"colorbar\": {\"outlinewidth\": 0, \"ticks\": \"\"}}, \"type\": \"parcoords\"}], \"pie\": [{\"automargin\": true, \"type\": \"pie\"}], \"scatter\": [{\"marker\": {\"colorbar\": {\"outlinewidth\": 0, \"ticks\": \"\"}}, \"type\": \"scatter\"}], \"scatter3d\": [{\"line\": {\"colorbar\": {\"outlinewidth\": 0, \"ticks\": \"\"}}, \"marker\": {\"colorbar\": {\"outlinewidth\": 0, \"ticks\": \"\"}}, \"type\": \"scatter3d\"}], \"scattercarpet\": [{\"marker\": {\"colorbar\": {\"outlinewidth\": 0, \"ticks\": \"\"}}, \"type\": \"scattercarpet\"}], \"scattergeo\": [{\"marker\": {\"colorbar\": {\"outlinewidth\": 0, \"ticks\": \"\"}}, \"type\": \"scattergeo\"}], \"scattergl\": [{\"marker\": {\"colorbar\": {\"outlinewidth\": 0, \"ticks\": \"\"}}, \"type\": \"scattergl\"}], \"scattermapbox\": [{\"marker\": {\"colorbar\": {\"outlinewidth\": 0, \"ticks\": \"\"}}, \"type\": \"scattermapbox\"}], \"scatterpolar\": [{\"marker\": {\"colorbar\": {\"outlinewidth\": 0, \"ticks\": \"\"}}, \"type\": \"scatterpolar\"}], \"scatterpolargl\": [{\"marker\": {\"colorbar\": {\"outlinewidth\": 0, \"ticks\": \"\"}}, \"type\": \"scatterpolargl\"}], \"scatterternary\": [{\"marker\": {\"colorbar\": {\"outlinewidth\": 0, \"ticks\": \"\"}}, \"type\": \"scatterternary\"}], \"surface\": [{\"colorbar\": {\"outlinewidth\": 0, \"ticks\": \"\"}, \"colorscale\": [[0.0, \"#0d0887\"], [0.1111111111111111, \"#46039f\"], [0.2222222222222222, \"#7201a8\"], [0.3333333333333333, \"#9c179e\"], [0.4444444444444444, \"#bd3786\"], [0.5555555555555556, \"#d8576b\"], [0.6666666666666666, \"#ed7953\"], [0.7777777777777778, \"#fb9f3a\"], [0.8888888888888888, \"#fdca26\"], [1.0, \"#f0f921\"]], \"type\": \"surface\"}], \"table\": [{\"cells\": {\"fill\": {\"color\": \"#EBF0F8\"}, \"line\": {\"color\": \"white\"}}, \"header\": {\"fill\": {\"color\": \"#C8D4E3\"}, \"line\": {\"color\": \"white\"}}, \"type\": \"table\"}]}, \"layout\": {\"annotationdefaults\": {\"arrowcolor\": \"#2a3f5f\", \"arrowhead\": 0, \"arrowwidth\": 1}, \"autotypenumbers\": \"strict\", \"coloraxis\": {\"colorbar\": {\"outlinewidth\": 0, \"ticks\": \"\"}}, \"colorscale\": {\"diverging\": [[0, \"#8e0152\"], [0.1, \"#c51b7d\"], [0.2, \"#de77ae\"], [0.3, \"#f1b6da\"], [0.4, \"#fde0ef\"], [0.5, \"#f7f7f7\"], [0.6, \"#e6f5d0\"], [0.7, \"#b8e186\"], [0.8, \"#7fbc41\"], [0.9, \"#4d9221\"], [1, \"#276419\"]], \"sequential\": [[0.0, \"#0d0887\"], [0.1111111111111111, \"#46039f\"], [0.2222222222222222, \"#7201a8\"], [0.3333333333333333, \"#9c179e\"], [0.4444444444444444, \"#bd3786\"], [0.5555555555555556, \"#d8576b\"], [0.6666666666666666, \"#ed7953\"], [0.7777777777777778, \"#fb9f3a\"], [0.8888888888888888, \"#fdca26\"], [1.0, \"#f0f921\"]], \"sequentialminus\": [[0.0, \"#0d0887\"], [0.1111111111111111, \"#46039f\"], [0.2222222222222222, \"#7201a8\"], [0.3333333333333333, \"#9c179e\"], [0.4444444444444444, \"#bd3786\"], [0.5555555555555556, \"#d8576b\"], [0.6666666666666666, \"#ed7953\"], [0.7777777777777778, \"#fb9f3a\"], [0.8888888888888888, \"#fdca26\"], [1.0, \"#f0f921\"]]}, \"colorway\": [\"#636efa\", \"#EF553B\", \"#00cc96\", \"#ab63fa\", \"#FFA15A\", \"#19d3f3\", \"#FF6692\", \"#B6E880\", \"#FF97FF\", \"#FECB52\"], \"font\": {\"color\": \"#2a3f5f\"}, \"geo\": {\"bgcolor\": \"white\", \"lakecolor\": \"white\", \"landcolor\": \"#E5ECF6\", \"showlakes\": true, \"showland\": true, \"subunitcolor\": \"white\"}, \"hoverlabel\": {\"align\": \"left\"}, \"hovermode\": \"closest\", \"mapbox\": {\"style\": \"light\"}, \"paper_bgcolor\": \"white\", \"plot_bgcolor\": \"#E5ECF6\", \"polar\": {\"angularaxis\": {\"gridcolor\": \"white\", \"linecolor\": \"white\", \"ticks\": \"\"}, \"bgcolor\": \"#E5ECF6\", \"radialaxis\": {\"gridcolor\": \"white\", \"linecolor\": \"white\", \"ticks\": \"\"}}, \"scene\": {\"xaxis\": {\"backgroundcolor\": \"#E5ECF6\", \"gridcolor\": \"white\", \"gridwidth\": 2, \"linecolor\": \"white\", \"showbackground\": true, \"ticks\": \"\", \"zerolinecolor\": \"white\"}, \"yaxis\": {\"backgroundcolor\": \"#E5ECF6\", \"gridcolor\": \"white\", \"gridwidth\": 2, \"linecolor\": \"white\", \"showbackground\": true, \"ticks\": \"\", \"zerolinecolor\": \"white\"}, \"zaxis\": {\"backgroundcolor\": \"#E5ECF6\", \"gridcolor\": \"white\", \"gridwidth\": 2, \"linecolor\": \"white\", \"showbackground\": true, \"ticks\": \"\", \"zerolinecolor\": \"white\"}}, \"shapedefaults\": {\"line\": {\"color\": \"#2a3f5f\"}}, \"ternary\": {\"aaxis\": {\"gridcolor\": \"white\", \"linecolor\": \"white\", \"ticks\": \"\"}, \"baxis\": {\"gridcolor\": \"white\", \"linecolor\": \"white\", \"ticks\": \"\"}, \"bgcolor\": \"#E5ECF6\", \"caxis\": {\"gridcolor\": \"white\", \"linecolor\": \"white\", \"ticks\": \"\"}}, \"title\": {\"x\": 0.05}, \"xaxis\": {\"automargin\": true, \"gridcolor\": \"white\", \"linecolor\": \"white\", \"ticks\": \"\", \"title\": {\"standoff\": 15}, \"zerolinecolor\": \"white\", \"zerolinewidth\": 2}, \"yaxis\": {\"automargin\": true, \"gridcolor\": \"white\", \"linecolor\": \"white\", \"ticks\": \"\", \"title\": {\"standoff\": 15}, \"zerolinecolor\": \"white\", \"zerolinewidth\": 2}}}, \"title\": {\"text\": \"Tag popularity by number of days\"}},                        {\"responsive\": true}                    ).then(function(){\n",
       "                            \n",
       "var gd = document.getElementById('d9333d45-578c-4e08-a343-52cca0ba1992');\n",
       "var x = new MutationObserver(function (mutations, observer) {{\n",
       "        var display = window.getComputedStyle(gd).display;\n",
       "        if (!display || display === 'none') {{\n",
       "            console.log([gd, 'removed!']);\n",
       "            Plotly.purge(gd);\n",
       "            observer.disconnect();\n",
       "        }}\n",
       "}});\n",
       "\n",
       "// Listen for the removal of the full notebook cells\n",
       "var notebookContainer = gd.closest('#notebook-container');\n",
       "if (notebookContainer) {{\n",
       "    x.observe(notebookContainer, {childList: true});\n",
       "}}\n",
       "\n",
       "// Listen for the clearing of the current output cell\n",
       "var outputEl = gd.closest('.output');\n",
       "if (outputEl) {{\n",
       "    x.observe(outputEl, {childList: true});\n",
       "}}\n",
       "\n",
       "                        })                };                });            </script>        </div>"
      ]
     },
     "metadata": {},
     "output_type": "display_data"
    }
   ],
   "source": [
    "fig = go.Figure(data=[go.Bar(x=graphData['tag'], y=graphData['nb'])])\n",
    "# Customize aspect\n",
    "fig.update_traces(marker_color='rgb(158,202,225)', marker_line_color='rgb(0,0,0)',\n",
    "                  marker_line_width=1.5, opacity=0.6)\n",
    "fig.update_layout(title_text='Tag popularity by number of days')\n",
    "fig.show()"
   ]
  },
  {
   "cell_type": "code",
   "execution_count": null,
   "id": "cheap-federal",
   "metadata": {},
   "outputs": [],
   "source": []
  }
 ],
 "metadata": {
  "kernelspec": {
   "display_name": "Python 3",
   "language": "python",
   "name": "python3"
  },
  "language_info": {
   "codemirror_mode": {
    "name": "ipython",
    "version": 3
   },
   "file_extension": ".py",
   "mimetype": "text/x-python",
   "name": "python",
   "nbconvert_exporter": "python",
   "pygments_lexer": "ipython3",
   "version": "3.8.8"
  }
 },
 "nbformat": 4,
 "nbformat_minor": 5
}
